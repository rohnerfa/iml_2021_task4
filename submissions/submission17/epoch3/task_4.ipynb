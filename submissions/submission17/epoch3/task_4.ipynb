{
  "nbformat": 4,
  "nbformat_minor": 0,
  "metadata": {
    "kernelspec": {
      "language": "python",
      "display_name": "Python 3",
      "name": "python3"
    },
    "language_info": {
      "name": "python",
      "version": "3.7.10",
      "mimetype": "text/x-python",
      "codemirror_mode": {
        "name": "ipython",
        "version": 3
      },
      "pygments_lexer": "ipython3",
      "nbconvert_exporter": "python",
      "file_extension": ".py"
    },
    "colab": {
      "name": "notebook2ee609c745.ipynb",
      "provenance": [],
      "collapsed_sections": [],
      "toc_visible": true
    },
    "accelerator": "GPU"
  },
  "cells": [
    {
      "cell_type": "markdown",
      "metadata": {
        "id": "SYFoogK5-0VD"
      },
      "source": [
        "For reproducibility make sure to change the paths to the corresponding files provided in the handout.\n",
        "\n",
        "This implementation of a siamese network with triplet loss is mainly base on the keras tutorial listed below. We implemented some similar functions to a group from last year for the inference model part.\n",
        "\n",
        "Sources: \n",
        "https://keras.io/examples/vision/siamese_network/\n",
        "https://github.com/yardenas/ethz-intro-ml/blob/master/project_4/cnns4food.py"
      ]
    },
    {
      "cell_type": "code",
      "metadata": {
        "_uuid": "8f2839f25d086af736a60e9eeb907d3b93b6e0e5",
        "_cell_guid": "b1076dfc-b9ad-4769-8c92-a6c4dae69d19",
        "execution": {
          "iopub.status.busy": "2021-06-02T20:16:38.795153Z",
          "iopub.execute_input": "2021-06-02T20:16:38.795482Z",
          "iopub.status.idle": "2021-06-02T20:16:43.913629Z",
          "shell.execute_reply.started": "2021-06-02T20:16:38.795412Z",
          "shell.execute_reply": "2021-06-02T20:16:43.912798Z"
        },
        "trusted": true,
        "id": "MgqSnTs4RwAi"
      },
      "source": [
        "import tensorflow as tf\n",
        "tf.random.set_seed(42)\n",
        "tf.config.run_functions_eagerly(True)\n",
        "import pandas as pd\n",
        "import numpy as np\n",
        "import os\n",
        "from tqdm import tqdm\n",
        "import shutil\n",
        "\n",
        "from tensorflow.keras.models import Sequential\n",
        "from tensorflow.keras.layers import Input, Activation, Dense, Dropout, Conv2D, MaxPooling2D, Flatten, Concatenate, BatchNormalization\n",
        "from tensorflow.keras.constraints import MaxNorm\n",
        "from tensorflow.keras.callbacks import EarlyStopping, ModelCheckpoint\n",
        "from tensorflow.keras.models import load_model\n",
        "from tensorflow.keras.preprocessing.image import load_img, img_to_array, array_to_img\n",
        "from tensorflow.keras import applications\n",
        "from tensorflow.keras import layers\n",
        "from tensorflow.keras import losses\n",
        "from tensorflow.keras import optimizers\n",
        "from tensorflow.keras import metrics\n",
        "from tensorflow.keras import Model\n",
        "\n",
        "import matplotlib.pyplot as plt\n",
        "from sklearn.model_selection import train_test_split\n",
        "\n",
        "import shutil"
      ],
      "execution_count": 1,
      "outputs": []
    },
    {
      "cell_type": "code",
      "metadata": {
        "execution": {
          "iopub.status.busy": "2021-06-02T20:16:43.915014Z",
          "iopub.execute_input": "2021-06-02T20:16:43.915320Z",
          "iopub.status.idle": "2021-06-02T20:16:43.922641Z",
          "shell.execute_reply.started": "2021-06-02T20:16:43.915286Z",
          "shell.execute_reply": "2021-06-02T20:16:43.921743Z"
        },
        "trusted": true,
        "id": "5M-8AQjfRwAk"
      },
      "source": [
        "train_triplets_path = '/content/train_triplets.txt'\n",
        "test_triplets_path = '/content/test_triplets.txt'\n",
        "food_path = '/content/food.zip'\n",
        "image_path = '/content/food/'"
      ],
      "execution_count": 19,
      "outputs": []
    },
    {
      "cell_type": "code",
      "metadata": {
        "id": "cny0gTlRW18u"
      },
      "source": [
        "shutil.unpack_archive(food_path, image_path, 'zip')"
      ],
      "execution_count": 20,
      "outputs": []
    },
    {
      "cell_type": "code",
      "metadata": {
        "colab": {
          "base_uri": "https://localhost:8080/"
        },
        "id": "3ZlahOpnR31D",
        "outputId": "0c6ac654-a278-421d-f0b3-1047ca90b26d"
      },
      "source": [
        "# from google.colab import auth\n",
        "# auth.authenticate_user()\n",
        "\n",
        "# project_id = 'dynamic-fulcrum-314308'\n",
        "# !gcloud config set project {project_id}\n",
        "\n",
        "# !gsutil cp gs://intro-ml-task4-fs21-permanent/food.zip .\n",
        "# !gsutil cp gs://intro-ml-task4-fs21-permanent/train_triplets.txt .\n",
        "# !gsutil cp gs://intro-ml-task4-fs21-permanent/test_triplets.txt .\n",
        "# !gsutil cp gs://intro-ml-task4-fs21-permanent/training_2.zip .\n",
        "\n",
        "# !unzip -q food.zip -d '/content/food'\n",
        "# !unzip -q training_2.zip -d '/content/training_2'\n",
        "\n",
        "# !rm food.zip\n",
        "# !rm training_2.zip"
      ],
      "execution_count": 4,
      "outputs": [
        {
          "output_type": "stream",
          "text": [
            "Updated property [core/project].\n",
            "Copying gs://intro-ml-task4-fs21-permanent/food.zip...\n",
            "| [1 files][372.4 MiB/372.4 MiB]                                                \n",
            "Operation completed over 1 objects/372.4 MiB.                                    \n",
            "Copying gs://intro-ml-task4-fs21-permanent/train_triplets.txt...\n",
            "/ [1 files][  1.0 MiB/  1.0 MiB]                                                \n",
            "Operation completed over 1 objects/1.0 MiB.                                      \n",
            "Copying gs://intro-ml-task4-fs21-permanent/test_triplets.txt...\n",
            "/ [1 files][  1.0 MiB/  1.0 MiB]                                                \n",
            "Operation completed over 1 objects/1.0 MiB.                                      \n",
            "Copying gs://intro-ml-task4-fs21-permanent/training_2.zip...\n",
            "/ [1 files][194.8 MiB/194.8 MiB]                                                \n",
            "Operation completed over 1 objects/194.8 MiB.                                    \n"
          ],
          "name": "stdout"
        }
      ]
    },
    {
      "cell_type": "code",
      "metadata": {
        "execution": {
          "iopub.status.busy": "2021-06-02T20:16:46.341448Z",
          "iopub.execute_input": "2021-06-02T20:16:46.341761Z",
          "iopub.status.idle": "2021-06-02T20:16:46.498022Z",
          "shell.execute_reply.started": "2021-06-02T20:16:46.341732Z",
          "shell.execute_reply": "2021-06-02T20:16:46.497228Z"
        },
        "trusted": true,
        "id": "gJy9RBMkRwAl"
      },
      "source": [
        "train_triplets = pd.read_csv(train_triplets_path, delim_whitespace=True, header=None, names =['anchor','positive','negative'], dtype='str')\n",
        "test_triplets = pd.read_csv(test_triplets_path, delim_whitespace=True, header=None, names =['anchor','positive','negative'], dtype='str')\n",
        "\n",
        "train_samples, val_samples = train_test_split(train_triplets, test_size=0.2)"
      ],
      "execution_count": 5,
      "outputs": []
    },
    {
      "cell_type": "code",
      "metadata": {
        "execution": {
          "iopub.status.busy": "2021-06-02T20:16:49.033356Z",
          "iopub.execute_input": "2021-06-02T20:16:49.033694Z",
          "iopub.status.idle": "2021-06-02T20:16:49.045530Z",
          "shell.execute_reply.started": "2021-06-02T20:16:49.033664Z",
          "shell.execute_reply": "2021-06-02T20:16:49.044447Z"
        },
        "trusted": true,
        "id": "OCi8AgJWRwAm"
      },
      "source": [
        "target_shape = (224, 224)\n",
        "IMG_WIDTH = 224\n",
        "IMG_HEIGHT = 224\n",
        "\n",
        "def preprocess_image(filename,training=True):\n",
        "    image_string = tf.io.read_file(image_path + filename + '.jpg')\n",
        "    image = tf.image.decode_jpeg(image_string, channels=3)\n",
        "    image = tf.cast(image, tf.float32)\n",
        "    image = tf.keras.applications.inception_resnet_v2.preprocess_input(image)\n",
        "    image = tf.image.resize(image, (IMG_HEIGHT, IMG_WIDTH))\n",
        "    if training:\n",
        "        image = tf.image.random_flip_left_right(image)\n",
        "        image = tf.image.random_flip_up_down(image)\n",
        "    return image\n",
        "\n",
        "def preprocess_triplets_train(anchor, positive, negative):\n",
        "    anchor_img = preprocess_image(anchor)\n",
        "    positive_img = preprocess_image(positive)\n",
        "    negative_img = preprocess_image(negative)\n",
        "    \n",
        "    return tf.stack([anchor_img, positive_img, negative_img], axis=0), 1\n",
        "\n",
        "def preprocess_triplets_test(anchor, positive, negative):\n",
        "    anchor_img = preprocess_image(anchor, training=False)\n",
        "    positive_img = preprocess_image(positive, training=False)\n",
        "    negative_img = preprocess_image(negative, training=False)\n",
        "    \n",
        "    return tf.stack([anchor_img, positive_img, negative_img], axis=0)\n",
        "\n",
        "def generate_dataset(triplet_df, training=True):\n",
        "    anchor_images = triplet_df['anchor']\n",
        "    positive_images = triplet_df['positive']\n",
        "    negative_images = triplet_df['negative']\n",
        "\n",
        "    anchor_dataset = tf.data.Dataset.from_tensor_slices(anchor_images)\n",
        "    positive_dataset = tf.data.Dataset.from_tensor_slices(positive_images)\n",
        "    negative_dataset = tf.data.Dataset.from_tensor_slices(negative_images)\n",
        "\n",
        "    dataset = tf.data.Dataset.zip((anchor_dataset, positive_dataset, negative_dataset))\n",
        "    if training:\n",
        "        dataset = dataset.map(preprocess_triplets_train,num_parallel_calls=tf.data.experimental.AUTOTUNE)\n",
        "    else:\n",
        "        dataset = dataset.map(preprocess_triplets_test,num_parallel_calls=tf.data.experimental.AUTOTUNE)\n",
        "    return dataset"
      ],
      "execution_count": 6,
      "outputs": []
    },
    {
      "cell_type": "code",
      "metadata": {
        "execution": {
          "iopub.status.busy": "2021-06-02T20:16:51.218404Z",
          "iopub.execute_input": "2021-06-02T20:16:51.218732Z",
          "iopub.status.idle": "2021-06-02T20:16:51.227551Z",
          "shell.execute_reply.started": "2021-06-02T20:16:51.218703Z",
          "shell.execute_reply": "2021-06-02T20:16:51.226322Z"
        },
        "trusted": true,
        "id": "RGVMWRt0RwAn"
      },
      "source": [
        "def create_model():\n",
        "    base_cnn = tf.keras.applications.InceptionResNetV2(weights=\"imagenet\", input_shape=target_shape + (3,), include_top=False)\n",
        "    base_cnn.trainable = False \n",
        "\n",
        "    #flatten = layers.Flatten()(base_cnn.output)\n",
        "    flatten = tf.keras.layers.GlobalAveragePooling2D()(base_cnn.output)\n",
        "    dense1 = layers.Dense(128, activation=\"relu\")(flatten)\n",
        "    output = layers.Lambda(lambda t: tf.math.l2_normalize(t, axis=1))(dense1)\n",
        "  \n",
        "    embedding = Model(inputs = base_cnn.input, outputs = output, name=\"Embedding\")\n",
        "    \n",
        "    \n",
        "    inputs = tf.keras.Input(shape=(3, IMG_HEIGHT, IMG_WIDTH, 3))\n",
        "    anchor, positive, negative = inputs[:, 0, ...], inputs[:, 1, ...], inputs[:, 2, ...]\n",
        "\n",
        "    anchor_embedding = embedding(anchor)\n",
        "    positive_embedding = embedding(positive)\n",
        "    negative_embedding = embedding(negative)\n",
        "\n",
        "    embeddings = tf.stack([anchor_embedding, positive_embedding, negative_embedding], axis=-1)\n",
        "    siamese_network = Model(inputs=inputs, outputs=embeddings)\n",
        "    siamese_network.summary()\n",
        "    return siamese_network"
      ],
      "execution_count": 7,
      "outputs": []
    },
    {
      "cell_type": "code",
      "metadata": {
        "execution": {
          "iopub.status.busy": "2021-06-02T20:16:53.741315Z",
          "iopub.execute_input": "2021-06-02T20:16:53.741640Z",
          "iopub.status.idle": "2021-06-02T20:16:53.747721Z",
          "shell.execute_reply.started": "2021-06-02T20:16:53.741609Z",
          "shell.execute_reply": "2021-06-02T20:16:53.746920Z"
        },
        "trusted": true,
        "id": "htqdeYJKRwAn"
      },
      "source": [
        "def compute_distances(embeddings):\n",
        "  anchor, positive, negative = embeddings[..., 0], embeddings[..., 1], embeddings[..., 2]\n",
        "  ap_distance = tf.reduce_sum(tf.square(anchor - positive), 1)\n",
        "  an_distance = tf.reduce_sum(tf.square(anchor - negative), 1)\n",
        "  return (ap_distance, an_distance)\n",
        "\n",
        "def triplet_loss(_, embeddings):\n",
        "  ap_distance, an_distance = compute_distances(embeddings)\n",
        "  #original paper proposed hard max (0, dist): L(A, P, N) = max(‖f(A) - f(P)‖² - ‖f(A) - f(N)‖² + margin, 0)\n",
        "  #softplus makes sure distance is positive, smooth approximation of ReLU\n",
        "  return tf.reduce_mean(tf.math.softplus(ap_distance - an_distance))\n",
        "\n",
        "def accuracy(_, embeddings):\n",
        "  ap_distance, an_distance = compute_distances(embeddings)\n",
        "  # equal to 1 if ap_distance <= an_distance, 0 else, calculates mean along all triplets\n",
        "  return tf.reduce_mean(\n",
        "    tf.cast(tf.greater_equal(an_distance, ap_distance), tf.float32))"
      ],
      "execution_count": 8,
      "outputs": []
    },
    {
      "cell_type": "code",
      "metadata": {
        "execution": {
          "iopub.status.busy": "2021-06-02T20:16:56.226333Z",
          "iopub.execute_input": "2021-06-02T20:16:56.226647Z",
          "iopub.status.idle": "2021-06-02T20:17:09.524656Z",
          "shell.execute_reply.started": "2021-06-02T20:16:56.226618Z",
          "shell.execute_reply": "2021-06-02T20:17:09.523902Z"
        },
        "trusted": true,
        "id": "4fDt38ijRwAo",
        "colab": {
          "base_uri": "https://localhost:8080/"
        },
        "outputId": "b6d77e7a-483a-4538-a927-6c265cdca9d4"
      },
      "source": [
        "model = create_model()\n",
        "model.compile(optimizer=tf.keras.optimizers.Adam(learning_rate=0.001),\n",
        "              loss=triplet_loss,\n",
        "              metrics=[accuracy])"
      ],
      "execution_count": 9,
      "outputs": [
        {
          "output_type": "stream",
          "text": [
            "Downloading data from https://storage.googleapis.com/tensorflow/keras-applications/inception_resnet_v2/inception_resnet_v2_weights_tf_dim_ordering_tf_kernels_notop.h5\n",
            "219062272/219055592 [==============================] - 2s 0us/step\n",
            "Model: \"model\"\n",
            "__________________________________________________________________________________________________\n",
            "Layer (type)                    Output Shape         Param #     Connected to                     \n",
            "==================================================================================================\n",
            "input_2 (InputLayer)            [(None, 3, 224, 224, 0                                            \n",
            "__________________________________________________________________________________________________\n",
            "tf.__operators__.getitem (Slici (None, 224, 224, 3)  0           input_2[0][0]                    \n",
            "__________________________________________________________________________________________________\n",
            "tf.__operators__.getitem_1 (Sli (None, 224, 224, 3)  0           input_2[0][0]                    \n",
            "__________________________________________________________________________________________________\n",
            "tf.__operators__.getitem_2 (Sli (None, 224, 224, 3)  0           input_2[0][0]                    \n",
            "__________________________________________________________________________________________________\n",
            "Embedding (Functional)          (None, 128)          54533472    tf.__operators__.getitem[0][0]   \n",
            "                                                                 tf.__operators__.getitem_1[0][0] \n",
            "                                                                 tf.__operators__.getitem_2[0][0] \n",
            "__________________________________________________________________________________________________\n",
            "tf.stack (TFOpLambda)           (None, 128, 3)       0           Embedding[0][0]                  \n",
            "                                                                 Embedding[1][0]                  \n",
            "                                                                 Embedding[2][0]                  \n",
            "==================================================================================================\n",
            "Total params: 54,533,472\n",
            "Trainable params: 196,736\n",
            "Non-trainable params: 54,336,736\n",
            "__________________________________________________________________________________________________\n"
          ],
          "name": "stdout"
        }
      ]
    },
    {
      "cell_type": "code",
      "metadata": {
        "execution": {
          "iopub.status.busy": "2021-06-02T20:17:13.546377Z",
          "iopub.execute_input": "2021-06-02T20:17:13.546696Z",
          "iopub.status.idle": "2021-06-02T20:17:13.904515Z",
          "shell.execute_reply.started": "2021-06-02T20:17:13.546667Z",
          "shell.execute_reply": "2021-06-02T20:17:13.903689Z"
        },
        "trusted": true,
        "id": "B_qC6pGlRwAp",
        "colab": {
          "base_uri": "https://localhost:8080/"
        },
        "outputId": "93d2f199-a481-4883-fa32-a193b4bc7054"
      },
      "source": [
        "train_dataset = generate_dataset(train_samples)\n",
        "val_dataset = generate_dataset(val_samples)\n",
        "train_image_count = train_samples.shape[0]\n",
        "\n",
        "train_dataset = train_dataset.shuffle(1024, reshuffle_each_iteration=True).repeat().batch(32)\n",
        "train_dataset = train_dataset.prefetch(8)\n",
        "\n",
        "val_dataset = val_dataset.batch(32)\n",
        "val_dataset = val_dataset.prefetch(8)"
      ],
      "execution_count": null,
      "outputs": [
        {
          "output_type": "stream",
          "text": [
            "/usr/local/lib/python3.7/dist-packages/tensorflow/python/data/ops/dataset_ops.py:3704: UserWarning: Even though the `tf.config.experimental_run_functions_eagerly` option is set, this option does not apply to tf.data functions. To force eager execution of tf.data functions, please use `tf.data.experimental.enable.debug_mode()`.\n",
            "  \"Even though the `tf.config.experimental_run_functions_eagerly` \"\n"
          ],
          "name": "stderr"
        }
      ]
    },
    {
      "cell_type": "code",
      "metadata": {
        "execution": {
          "iopub.status.busy": "2021-06-02T20:17:18.544981Z",
          "iopub.execute_input": "2021-06-02T20:17:18.545294Z",
          "iopub.status.idle": "2021-06-02T20:17:18.551121Z",
          "shell.execute_reply.started": "2021-06-02T20:17:18.545265Z",
          "shell.execute_reply": "2021-06-02T20:17:18.548651Z"
        },
        "trusted": true,
        "id": "kN7IhYQDRwAq"
      },
      "source": [
        "checkpoint_path = \"/content/training_1/cp.ckpt\"\n",
        "checkpoint_dir = os.path.dirname(checkpoint_path)\n",
        "\n",
        "# Create a callback that saves the model's weights\n",
        "cp_callback = tf.keras.callbacks.ModelCheckpoint(filepath=checkpoint_path,\n",
        "                                                 save_weights_only=True,\n",
        "                                                 verbose=1)"
      ],
      "execution_count": null,
      "outputs": []
    },
    {
      "cell_type": "code",
      "metadata": {
        "execution": {
          "iopub.status.busy": "2021-06-02T20:17:23.330267Z",
          "iopub.execute_input": "2021-06-02T20:17:23.330585Z",
          "iopub.status.idle": "2021-06-02T22:02:40.252674Z",
          "shell.execute_reply.started": "2021-06-02T20:17:23.330556Z",
          "shell.execute_reply": "2021-06-02T22:02:40.251824Z"
        },
        "trusted": true,
        "id": "nAdK8h3ARwAq",
        "outputId": "6fc1eb20-b0e2-430e-9ebc-a83ea17aa7bf"
      },
      "source": [
        "history = model.fit(train_dataset, steps_per_epoch=train_image_count // 32, epochs=3, validation_data=val_dataset, validation_steps=10, callbacks=[cp_callback])"
      ],
      "execution_count": null,
      "outputs": [
        {
          "output_type": "stream",
          "text": [
            "Epoch 1/3\n",
            "1487/1487 [==============================] - 2123s 1s/step - loss: 0.5965 - accuracy: 0.6818 - val_loss: 0.5531 - val_accuracy: 0.7250\n",
            "\n",
            "Epoch 00001: saving model to training_1/cp.ckpt\n",
            "Epoch 2/3\n",
            "1487/1487 [==============================] - 2093s 1s/step - loss: 0.5668 - accuracy: 0.7125 - val_loss: 0.5418 - val_accuracy: 0.7469\n",
            "\n",
            "Epoch 00002: saving model to training_1/cp.ckpt\n",
            "Epoch 3/3\n",
            "1487/1487 [==============================] - 2098s 1s/step - loss: 0.5705 - accuracy: 0.7110 - val_loss: 0.5526 - val_accuracy: 0.7063\n",
            "\n",
            "Epoch 00003: saving model to training_1/cp.ckpt\n"
          ],
          "name": "stdout"
        }
      ]
    },
    {
      "cell_type": "code",
      "metadata": {
        "execution": {
          "iopub.status.busy": "2021-06-02T22:03:17.657031Z",
          "iopub.execute_input": "2021-06-02T22:03:17.657344Z",
          "iopub.status.idle": "2021-06-02T22:03:27.978316Z",
          "shell.execute_reply.started": "2021-06-02T22:03:17.657317Z",
          "shell.execute_reply": "2021-06-02T22:03:27.977460Z"
        },
        "trusted": true,
        "id": "r_GgeimgRwAr",
        "outputId": "a6abcc09-c802-49c6-aa45-747309f6f3cf"
      },
      "source": [
        "# import shutil\n",
        "# shutil.make_archive(checkpoint_dir, 'zip', checkpoint_dir)"
      ],
      "execution_count": null,
      "outputs": [
        {
          "output_type": "execute_result",
          "data": {
            "text/plain": [
              "'/kaggle/working/training_1.zip'"
            ]
          },
          "metadata": {
            "tags": []
          },
          "execution_count": 11
        }
      ]
    },
    {
      "cell_type": "code",
      "metadata": {
        "execution": {
          "iopub.status.busy": "2021-06-02T13:46:52.334809Z",
          "iopub.execute_input": "2021-06-02T13:46:52.335137Z",
          "iopub.status.idle": "2021-06-02T13:46:53.211222Z",
          "shell.execute_reply.started": "2021-06-02T13:46:52.335108Z",
          "shell.execute_reply": "2021-06-02T13:46:53.210214Z"
        },
        "trusted": true,
        "id": "QXQP8qx6RwAq",
        "colab": {
          "base_uri": "https://localhost:8080/"
        },
        "outputId": "c96eb79e-8f2c-4af9-8b26-3cef5175cf20"
      },
      "source": [
        "# model.load_weights('/content/training_2/cp.ckpt')"
      ],
      "execution_count": 10,
      "outputs": [
        {
          "output_type": "execute_result",
          "data": {
            "text/plain": [
              "<tensorflow.python.training.tracking.util.CheckpointLoadStatus at 0x7f76e2725bd0>"
            ]
          },
          "metadata": {
            "tags": []
          },
          "execution_count": 10
        }
      ]
    },
    {
      "cell_type": "code",
      "metadata": {
        "execution": {
          "iopub.status.busy": "2021-06-02T22:04:13.156313Z",
          "iopub.execute_input": "2021-06-02T22:04:13.156626Z",
          "iopub.status.idle": "2021-06-02T22:04:13.160947Z",
          "shell.execute_reply.started": "2021-06-02T22:04:13.156597Z",
          "shell.execute_reply": "2021-06-02T22:04:13.160102Z"
        },
        "trusted": true,
        "id": "4-zA-XtnRwAr"
      },
      "source": [
        "def create_inference_model(model):\n",
        "    ap_distance, an_distance = compute_distances(model.output)\n",
        "    predictions = tf.cast(tf.greater_equal(an_distance, ap_distance), tf.int8)\n",
        "    return tf.keras.Model(inputs=model.inputs, outputs=predictions)"
      ],
      "execution_count": 11,
      "outputs": []
    },
    {
      "cell_type": "code",
      "metadata": {
        "execution": {
          "iopub.status.busy": "2021-06-02T22:04:14.224739Z",
          "iopub.execute_input": "2021-06-02T22:04:14.225117Z",
          "iopub.status.idle": "2021-06-02T22:04:14.261847Z",
          "shell.execute_reply.started": "2021-06-02T22:04:14.225089Z",
          "shell.execute_reply": "2021-06-02T22:04:14.261098Z"
        },
        "trusted": true,
        "id": "R87oCpuGRwAr"
      },
      "source": [
        "inference_model = create_inference_model(model)"
      ],
      "execution_count": 15,
      "outputs": []
    },
    {
      "cell_type": "code",
      "metadata": {
        "execution": {
          "iopub.status.busy": "2021-06-02T22:04:16.859508Z",
          "iopub.execute_input": "2021-06-02T22:04:16.859850Z",
          "iopub.status.idle": "2021-06-02T22:04:16.951774Z",
          "shell.execute_reply.started": "2021-06-02T22:04:16.859818Z",
          "shell.execute_reply": "2021-06-02T22:04:16.951036Z"
        },
        "trusted": true,
        "id": "fS8zAo0dRwAs",
        "colab": {
          "base_uri": "https://localhost:8080/"
        },
        "outputId": "aa28c4b1-5af0-496a-fbd3-b2e616e0da09"
      },
      "source": [
        "test_dataset = generate_dataset(test_triplets, training=False).batch(256).prefetch(2)"
      ],
      "execution_count": 16,
      "outputs": [
        {
          "output_type": "stream",
          "text": [
            "/usr/local/lib/python3.7/dist-packages/tensorflow/python/data/ops/dataset_ops.py:3704: UserWarning: Even though the `tf.config.experimental_run_functions_eagerly` option is set, this option does not apply to tf.data functions. To force eager execution of tf.data functions, please use `tf.data.experimental.enable.debug_mode()`.\n",
            "  \"Even though the `tf.config.experimental_run_functions_eagerly` \"\n"
          ],
          "name": "stderr"
        }
      ]
    },
    {
      "cell_type": "code",
      "metadata": {
        "execution": {
          "iopub.status.busy": "2021-06-02T22:04:21.925412Z",
          "iopub.execute_input": "2021-06-02T22:04:21.925729Z",
          "iopub.status.idle": "2021-06-02T22:12:59.906765Z",
          "shell.execute_reply.started": "2021-06-02T22:04:21.925699Z",
          "shell.execute_reply": "2021-06-02T22:12:59.905962Z"
        },
        "trusted": true,
        "id": "Zwkk0vYoRwAs",
        "colab": {
          "base_uri": "https://localhost:8080/"
        },
        "outputId": "4dbaf23c-9ab5-40be-b97c-c29222be744e"
      },
      "source": [
        "predictions = inference_model.predict(\n",
        "        test_dataset,\n",
        "        verbose=1)"
      ],
      "execution_count": 17,
      "outputs": [
        {
          "output_type": "stream",
          "text": [
            "233/233 [==============================] - 994s 4s/step\n"
          ],
          "name": "stdout"
        }
      ]
    },
    {
      "cell_type": "code",
      "metadata": {
        "execution": {
          "iopub.status.busy": "2021-06-02T22:13:10.165197Z",
          "iopub.execute_input": "2021-06-02T22:13:10.165524Z",
          "iopub.status.idle": "2021-06-02T22:13:10.170653Z",
          "shell.execute_reply.started": "2021-06-02T22:13:10.165491Z",
          "shell.execute_reply": "2021-06-02T22:13:10.169536Z"
        },
        "trusted": true,
        "id": "C58-8MJ3RwAs",
        "outputId": "82d6a07f-32d5-484f-a3fd-b68fbaaa79ce"
      },
      "source": [
        "# print(predictions)"
      ],
      "execution_count": null,
      "outputs": [
        {
          "output_type": "stream",
          "text": [
            "[1 0 0 ... 1 1 1]\n"
          ],
          "name": "stdout"
        }
      ]
    },
    {
      "cell_type": "code",
      "metadata": {
        "execution": {
          "iopub.status.busy": "2021-06-02T22:13:14.078544Z",
          "iopub.execute_input": "2021-06-02T22:13:14.078956Z",
          "iopub.status.idle": "2021-06-02T22:13:14.200080Z",
          "shell.execute_reply.started": "2021-06-02T22:13:14.078914Z",
          "shell.execute_reply": "2021-06-02T22:13:14.199294Z"
        },
        "trusted": true,
        "id": "veJsLiLQRwAs"
      },
      "source": [
        "# Create submission file\n",
        "\n",
        "np.savetxt('submission.txt', predictions, fmt='%d')"
      ],
      "execution_count": 18,
      "outputs": []
    }
  ]
}