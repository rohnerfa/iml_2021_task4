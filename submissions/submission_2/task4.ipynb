{
 "cells": [
  {
   "cell_type": "markdown",
   "metadata": {
    "id": "6sxvRq6ikzeO"
   },
   "source": [
    "##Import Packages"
   ]
  },
  {
   "cell_type": "code",
   "execution_count": 1,
   "metadata": {
    "id": "KJ5uadTt2ahV"
   },
   "outputs": [],
   "source": [
    "import tensorflow as tf\n",
    "\n",
    "import pandas as pd\n",
    "import numpy as np\n",
    "\n",
    "#from numpy import asarray\n",
    "from sklearn.model_selection import train_test_split\n",
    "import time\n",
    "from tensorflow.keras.models import Sequential\n",
    "#from tensorflow.keras.models import Model\n",
    "from tensorflow.keras.layers import Input, Activation, Dense, Dropout, Conv2D, MaxPooling2D, Flatten, Concatenate, BatchNormalization\n",
    "from tensorflow.keras.utils import plot_model\n",
    "from tensorflow.keras.constraints import MaxNorm\n",
    "from tensorflow.keras.callbacks import EarlyStopping, ModelCheckpoint\n",
    "from tensorflow.keras.models import load_model\n",
    "from matplotlib import image\n",
    "import matplotlib.pyplot as plt\n",
    "\n",
    "import zipfile\n",
    "from tensorflow.keras.applications import VGG16\n",
    "from tensorflow.keras.applications.vgg16 import preprocess_input\n",
    "import matplotlib as mpl\n",
    "\n",
    "\n",
    "import os\n",
    "#from PIL import Image\n",
    "from tensorflow.keras.preprocessing.image import load_img, img_to_array, array_to_img\n",
    "import uuid\n",
    "from tqdm import tqdm\n",
    "import shutil\n",
    "import pickle\n",
    "from tensorflow.keras.models import Model"
   ]
  },
  {
   "cell_type": "markdown",
   "metadata": {
    "id": "Jh5QRqDdJ9Tj"
   },
   "source": [
    "# Load the dataset"
   ]
  },
  {
   "cell_type": "code",
   "execution_count": 2,
   "metadata": {
    "colab": {
     "base_uri": "https://localhost:8080/"
    },
    "id": "UQMq2Kw0GTQF",
    "outputId": "65c11723-f2a2-41e8-bdff-62ffa2341d1a"
   },
   "outputs": [
    {
     "name": "stdout",
     "output_type": "stream",
     "text": [
      "Updated property [core/project].\n",
      "\n",
      "\n",
      "To take a quick anonymous survey, run:\n",
      "  $ gcloud survey\n",
      "\n",
      "Mounted at /content/drive\n"
     ]
    }
   ],
   "source": [
    "from google.colab import auth\n",
    "auth.authenticate_user()\n",
    "\n",
    "project_id = 'dynamic-fulcrum-314308'\n",
    "!gcloud config set project {project_id}\n",
    "\n",
    "from google.colab import drive\n",
    "drive.mount('/content/drive')"
   ]
  },
  {
   "cell_type": "markdown",
   "metadata": {
    "id": "w2OvsD2h1Fds"
   },
   "source": [
    "read the training/test triplets"
   ]
  },
  {
   "cell_type": "code",
   "execution_count": 3,
   "metadata": {
    "id": "A8K7nqc2LQO1"
   },
   "outputs": [],
   "source": [
    "train_triplets = pd.read_csv('/content/drive/MyDrive/ml_task4/train_triplets.txt', delim_whitespace=True, header=None, names =['anchor','positive','negative'])\n",
    "test_triplets = pd.read_csv('/content/drive/MyDrive/ml_task4/test_triplets.txt', delim_whitespace=True, header=None, names =['anchor','positive','negative'])"
   ]
  },
  {
   "cell_type": "markdown",
   "metadata": {
    "id": "3aQWjw1D1J1T"
   },
   "source": [
    "unzip the food images"
   ]
  },
  {
   "cell_type": "code",
   "execution_count": null,
   "metadata": {
    "colab": {
     "base_uri": "https://localhost:8080/"
    },
    "id": "3B8FI3QkigNl",
    "outputId": "570701b5-e841-4b66-c3a5-be0c560c6a46"
   },
   "outputs": [
    {
     "name": "stdout",
     "output_type": "stream",
     "text": [
      "Extracted images on local drive.\n"
     ]
    }
   ],
   "source": [
    "with zipfile.ZipFile('/content/drive/MyDrive/ml_task4/food.zip', 'r') as zip_ref:\n",
    "    zip_ref.extractall('/content/')\n",
    "\n",
    "print('Extracted images on local drive.')"
   ]
  },
  {
   "cell_type": "markdown",
   "metadata": {
    "id": "-LlDXFvCNsou"
   },
   "source": [
    "#Generate resized images"
   ]
  },
  {
   "cell_type": "code",
   "execution_count": 5,
   "metadata": {
    "id": "nb3v82ZWe9aq"
   },
   "outputs": [],
   "source": [
    "img_path = r'/content/food'\n",
    "image_resized_path = r'/content/food_res/img'\n",
    "if not os.path.exists(image_resized_path):\n",
    "  os.makedirs(image_resized_path)\n",
    "\n",
    "img_height = 299\n",
    "img_width = 299"
   ]
  },
  {
   "cell_type": "markdown",
   "metadata": {
    "id": "c8t5aFRJEgda"
   },
   "source": [
    "##Skip if resized images already exist"
   ]
  },
  {
   "cell_type": "markdown",
   "metadata": {
    "id": "AX01KaDk25Zg"
   },
   "source": [
    "resize all images to have the same size, use padding if necessary"
   ]
  },
  {
   "cell_type": "code",
   "execution_count": null,
   "metadata": {
    "colab": {
     "base_uri": "https://localhost:8080/"
    },
    "id": "IMtra_ld24rs",
    "outputId": "050d766d-b6fb-4ec1-dd0b-f76c09ee97bc"
   },
   "outputs": [
    {
     "name": "stderr",
     "output_type": "stream",
     "text": [
      "100%|██████████| 10001/10001 [02:55<00:00, 57.09it/s]"
     ]
    },
    {
     "name": "stdout",
     "output_type": "stream",
     "text": [
      "Resized images and saved to new directory.\n"
     ]
    },
    {
     "name": "stderr",
     "output_type": "stream",
     "text": [
      "\n"
     ]
    }
   ],
   "source": [
    "for img_name in tqdm(os.listdir(img_path)):\n",
    "  if img_name.endswith('.jpg'):\n",
    "    img = load_img(img_path + '/' + img_name)\n",
    "    img = img_to_array(img)\n",
    "    img = tf.image.resize_with_pad(img, img_height, img_width, antialias=True)\n",
    "    img = array_to_img(img)\n",
    "    img.save(image_resized_path + '/' + img_name)\n",
    "\n",
    "print('Resized images and saved to new directory.')"
   ]
  },
  {
   "cell_type": "code",
   "execution_count": null,
   "metadata": {
    "colab": {
     "base_uri": "https://localhost:8080/",
     "height": 35
    },
    "id": "hhVmQmWdF4Oe",
    "outputId": "0ef1dad1-688f-483f-a125-261142320ecb"
   },
   "outputs": [
    {
     "data": {
      "application/vnd.google.colaboratory.intrinsic+json": {
       "type": "string"
      },
      "text/plain": [
       "'/content/food_res.zip'"
      ]
     },
     "execution_count": 13,
     "metadata": {
      "tags": []
     },
     "output_type": "execute_result"
    }
   ],
   "source": [
    "shutil.make_archive('/content/food_res/img', 'zip', image_resized_path)"
   ]
  },
  {
   "cell_type": "code",
   "execution_count": null,
   "metadata": {
    "colab": {
     "base_uri": "https://localhost:8080/"
    },
    "id": "I7xboo8uC2MA",
    "outputId": "1885b956-4b82-47ed-95cf-b41487c9dabb"
   },
   "outputs": [
    {
     "name": "stdout",
     "output_type": "stream",
     "text": [
      "Copying file://food_res.zip [Content-Type=application/zip]...\n",
      "/ [0 files][    0.0 B/157.0 MiB]                                                \r",
      "==> NOTE: You are uploading one or more large file(s), which would run\n",
      "significantly faster if you enable parallel composite uploads. This\n",
      "feature can be enabled by editing the\n",
      "\"parallel_composite_upload_threshold\" value in your .boto\n",
      "configuration file. However, note that if you do this large files will\n",
      "be uploaded as `composite objects\n",
      "<https://cloud.google.com/storage/docs/composite-objects>`_,which\n",
      "means that any user who downloads such objects will need to have a\n",
      "compiled crcmod installed (see \"gsutil help crcmod\"). This is because\n",
      "without a compiled crcmod, computing checksums on composite objects is\n",
      "so slow that gsutil disables downloads of composite objects.\n",
      "\n",
      "| [1 files][157.0 MiB/157.0 MiB]                                                \n",
      "Operation completed over 1 objects/157.0 MiB.                                    \n"
     ]
    }
   ],
   "source": [
    "!gsutil cp food_res.zip gs://intro-ml-task4-fs21-permanent"
   ]
  },
  {
   "cell_type": "markdown",
   "metadata": {
    "id": "F4FHlfmo2VQX"
   },
   "source": [
    "##Run if resized images already in bucket"
   ]
  },
  {
   "cell_type": "code",
   "execution_count": 6,
   "metadata": {
    "colab": {
     "base_uri": "https://localhost:8080/"
    },
    "id": "ENA18MXe2Yse",
    "outputId": "e803f0ff-2577-4781-d3aa-1fa6191509b8"
   },
   "outputs": [
    {
     "name": "stdout",
     "output_type": "stream",
     "text": [
      "Copying gs://intro-ml-task4-fs21-permanent/food_res.zip...\n",
      "- [1 files][157.0 MiB/157.0 MiB]                                                \n",
      "Operation completed over 1 objects/157.0 MiB.                                    \n"
     ]
    }
   ],
   "source": [
    "!gsutil cp gs://intro-ml-task4-fs21-permanent/food_res.zip .\n",
    "\n",
    "!unzip -q food_res.zip -d '/content/food_res/img'\n",
    "\n",
    "!rm food_res.zip"
   ]
  },
  {
   "cell_type": "markdown",
   "metadata": {
    "id": "WQZsZQhcQ3UX"
   },
   "source": [
    "#Feature Extraction"
   ]
  },
  {
   "cell_type": "markdown",
   "metadata": {
    "id": "ndnbnayJCc9m"
   },
   "source": [
    "##old version using functions"
   ]
  },
  {
   "cell_type": "code",
   "execution_count": null,
   "metadata": {
    "colab": {
     "base_uri": "https://localhost:8080/"
    },
    "id": "jV6OjZkZQ4vt",
    "outputId": "c2272181-7412-48c3-e330-f087dc6e3b1f"
   },
   "outputs": [
    {
     "name": "stdout",
     "output_type": "stream",
     "text": [
      "Found 10000 files belonging to 1 classes.\n",
      "Downloading data from https://storage.googleapis.com/tensorflow/keras-applications/inception_resnet_v2/inception_resnet_v2_weights_tf_dim_ordering_tf_kernels_notop.h5\n",
      "219062272/219055592 [==============================] - 5s 0us/step\n"
     ]
    }
   ],
   "source": [
    "# input_shape = (299,299,3)\n",
    "\n",
    "# # Features file\n",
    "# features_file = 'features.npy'\n",
    "\n",
    "# # Generate the feature extraction neural network\n",
    "# def feature_extraction_net(input_shape):\n",
    "#   #base_model_Xception = tf.keras.applications.Xception(include_top=False, weights=\"imagenet\", pooling='avg')\n",
    "#   base_model_inception = tf.keras.applications.InceptionResNetV2(pooling='avg',include_top=False)\n",
    "\n",
    "#   # freeze the weights\n",
    "#   #base_model_Xception.trainable=False\n",
    "#   base_model_inception.trainable=False\n",
    "\n",
    "#   # declare input\n",
    "#   inputs = Input(shape=input_shape)\n",
    "#   x = tf.keras.applications.inception_resnet_v2.preprocess_input(inputs)\n",
    "#   #outputs = base_model_Xception(inputs)\n",
    "#   outputs = base_model_inception(x)\n",
    "\n",
    "#   #obtain model and return\n",
    "#   base_model = tf.keras.Model(inputs=inputs, outputs=outputs)\n",
    "\n",
    "#   return base_model\n",
    "\n",
    "# # Generate Dataset\n",
    "# train_res = tf.keras.preprocessing.image_dataset_from_directory(\n",
    "#     '/content/food_res',\n",
    "#     label_mode=None,\n",
    "#     color_mode=\"rgb\",\n",
    "#     batch_size=32,\n",
    "#     image_size=(299, 299),\n",
    "#     shuffle=False\n",
    "# )\n",
    "\n",
    "\n",
    "\n",
    "# # Perform feature extraction\n",
    "# def feature_extraction():\n",
    "#     # Declare feature selection model\n",
    "#     feature_extraction = feature_extraction_net(input_shape)\n",
    "\n",
    "#     # Compute features\n",
    "#     features = feature_extraction.predict(train_res)\n",
    "\n",
    "#     # Return features vector\n",
    "#     return features\n",
    "\n",
    "# features = feature_extraction()\n",
    "\n"
   ]
  },
  {
   "cell_type": "markdown",
   "metadata": {
    "id": "VkW4Smj7CiCi"
   },
   "source": [
    "##new version"
   ]
  },
  {
   "cell_type": "code",
   "execution_count": 7,
   "metadata": {
    "colab": {
     "base_uri": "https://localhost:8080/"
    },
    "id": "JVAx_VxmAYt1",
    "outputId": "ee0ae8ab-2ba8-4d23-dd11-ff8060268aca"
   },
   "outputs": [
    {
     "name": "stdout",
     "output_type": "stream",
     "text": [
      "Found 10000 files belonging to 1 classes.\n",
      "Downloading data from https://storage.googleapis.com/tensorflow/keras-applications/inception_resnet_v2/inception_resnet_v2_weights_tf_dim_ordering_tf_kernels_notop.h5\n",
      "219062272/219055592 [==============================] - 2s 0us/step\n"
     ]
    }
   ],
   "source": [
    "input_shape = (299,299,3)\n",
    "\n",
    "features_file = 'features.npy'\n",
    "\n",
    "# Generate Dataset\n",
    "train_res = tf.keras.preprocessing.image_dataset_from_directory(\n",
    "    '/content/food_res',\n",
    "    label_mode=None,\n",
    "    color_mode=\"rgb\",\n",
    "    batch_size=32,\n",
    "    image_size=(299, 299),\n",
    "    shuffle=False\n",
    ")\n",
    "\n",
    "#base_model_Xception = tf.keras.applications.Xception(include_top=False, weights=\"imagenet\", pooling='avg')\n",
    "base_model_inception = tf.keras.applications.InceptionResNetV2(pooling='avg',include_top=False)\n",
    "\n",
    "# freeze the weights\n",
    "#base_model_Xception.trainable=False\n",
    "base_model_inception.trainable=False\n",
    "\n",
    "# declare input\n",
    "inputs = Input(shape=input_shape)\n",
    "x = tf.keras.applications.inception_resnet_v2.preprocess_input(inputs)\n",
    "#outputs = base_model_Xception(inputs)\n",
    "outputs = base_model_inception(x)\n",
    "\n",
    "#obtain model and return\n",
    "base_model = tf.keras.Model(inputs=inputs, outputs=outputs)\n",
    "\n",
    "# Compute features\n",
    "features = base_model.predict(train_res)"
   ]
  },
  {
   "cell_type": "markdown",
   "metadata": {
    "id": "4L3JbXyKACga"
   },
   "source": [
    "##save features for future use"
   ]
  },
  {
   "cell_type": "code",
   "execution_count": null,
   "metadata": {
    "id": "k4Y9HLPi_-3X"
   },
   "outputs": [],
   "source": [
    "with open(features_file, 'wb') as f:\n",
    "  np.save(f, features)\n",
    "\n",
    "#old saving method\n",
    "features_file_pickle = 'features.pckl'\n",
    "with open(features_file_pickle, 'wb') as f:\n",
    "  pickle.dump(features, f)"
   ]
  },
  {
   "cell_type": "code",
   "execution_count": null,
   "metadata": {
    "colab": {
     "base_uri": "https://localhost:8080/"
    },
    "id": "y1KClM8cdhMi",
    "outputId": "bcd91dbc-e8b5-4844-86cd-de13317d00a9"
   },
   "outputs": [
    {
     "name": "stdout",
     "output_type": "stream",
     "text": [
      "Copying file://features.npy [Content-Type=application/octet-stream]...\n",
      "\\\n",
      "Operation completed over 1 objects/58.6 MiB.                                     \n",
      "Copying file://features.pckl [Content-Type=application/octet-stream]...\n",
      "| [1 files][ 58.6 MiB/ 58.6 MiB]                                                \n",
      "Operation completed over 1 objects/58.6 MiB.                                     \n"
     ]
    }
   ],
   "source": [
    "# run if not yet uploaded\n",
    "if os.path.exists(features_file):\n",
    "  !gsutil cp features.npy gs://intro-ml-task4-fs21-permanent\n",
    "\n",
    "if os.path.exists(features_file_pickle):\n",
    "  !gsutil cp features.pckl gs://intro-ml-task4-fs21-permanent"
   ]
  },
  {
   "cell_type": "markdown",
   "metadata": {
    "id": "4QMm0WgdkXHx"
   },
   "source": [
    "##If features already extracted"
   ]
  },
  {
   "cell_type": "code",
   "execution_count": null,
   "metadata": {
    "colab": {
     "base_uri": "https://localhost:8080/"
    },
    "id": "yJaQHvt0QyF6",
    "outputId": "ef46ac17-fbf3-4a08-df8b-a21d345f1bc8"
   },
   "outputs": [
    {
     "name": "stdout",
     "output_type": "stream",
     "text": [
      "Copying gs://intro-ml-task4-fs21-permanent/features.npy...\n",
      "- [1 files][ 58.6 MiB/ 58.6 MiB]                                                \n",
      "Operation completed over 1 objects/58.6 MiB.                                     \n",
      "Copying gs://intro-ml-task4-fs21-permanent/features.pckl...\n",
      "- [1 files][ 58.6 MiB/ 58.6 MiB]                                                \n",
      "Operation completed over 1 objects/58.6 MiB.                                     \n"
     ]
    }
   ],
   "source": [
    "!gsutil cp gs://intro-ml-task4-fs21-permanent/features.npy .\n",
    "\n",
    "features = np.load('features.npy')\n",
    "\n",
    "# # old method\n",
    "# !gsutil cp gs://intro-ml-task4-fs21-permanent/features.pckl ."
   ]
  },
  {
   "cell_type": "markdown",
   "metadata": {
    "id": "F-9ljmrZj9U6"
   },
   "source": [
    "# Create Triplet tensor "
   ]
  },
  {
   "cell_type": "code",
   "execution_count": 8,
   "metadata": {
    "id": "lnW21ltfMf4h"
   },
   "outputs": [],
   "source": [
    "def generate_feature_tensor(features, triplet_df, training=True):\n",
    "  if training:\n",
    "    train_tensor = np.zeros((2*triplet_df.shape[0],3*features.shape[1]))\n",
    "    labels = np.empty(0)\n",
    "\n",
    "    for i in range(triplet_df.shape[0]):\n",
    "      anchor, positive, negative = triplet_df.iloc[i,:]\n",
    "\n",
    "      triplet_features = np.concatenate([features[anchor,:],features[positive,:],features[negative,:]])\n",
    "      triplet_features_switched = np.concatenate([features[anchor,:],features[negative,:],features[positive,:]])\n",
    "      train_tensor[2*i] = triplet_features\n",
    "      train_tensor[(2*i)+1] = triplet_features_switched\n",
    "      labels = np.append(labels, [1,0])\n",
    "\n",
    "    return train_tensor, labels\n",
    "\n",
    "  else:\n",
    "    test_tensor = np.zeros((triplet_df.shape[0],3*features.shape[1]))\n",
    "\n",
    "    for i in tqdm(range(triplet_df.shape[0])):\n",
    "      anchor, positive, negative = triplet_df.iloc[i,:]\n",
    "\n",
    "      triplet_features = np.concatenate([features[anchor,:],features[positive,:],features[negative,:]])\n",
    "      test_tensor[i] = triplet_features\n",
    "\n",
    "    return test_tensor"
   ]
  },
  {
   "cell_type": "code",
   "execution_count": 9,
   "metadata": {
    "colab": {
     "base_uri": "https://localhost:8080/"
    },
    "id": "EA6QoJN1nSNZ",
    "outputId": "bc007271-542f-4a5b-b909-6601b09babcd"
   },
   "outputs": [
    {
     "name": "stderr",
     "output_type": "stream",
     "text": [
      "100%|██████████| 59544/59544 [00:11<00:00, 5069.29it/s]\n"
     ]
    }
   ],
   "source": [
    "train_tensor, labels = generate_feature_tensor(features, train_triplets, training=True)\n",
    "test_tensor = generate_feature_tensor(features, test_triplets, training=False)"
   ]
  },
  {
   "cell_type": "markdown",
   "metadata": {
    "id": "-ec05ppsoGQM"
   },
   "source": [
    "#Build model"
   ]
  },
  {
   "cell_type": "code",
   "execution_count": 11,
   "metadata": {
    "colab": {
     "base_uri": "https://localhost:8080/"
    },
    "id": "h1EbFg04oJhP",
    "outputId": "567738ad-fa63-45aa-d4aa-1cc17a20308f"
   },
   "outputs": [
    {
     "name": "stdout",
     "output_type": "stream",
     "text": [
      "Compiling model...\n",
      "Training model...\n",
      "Epoch 1/6\n",
      "3720/3720 [==============================] - 27s 7ms/step - loss: 0.6583 - accuracy: 0.5897\n",
      "Epoch 2/6\n",
      "3720/3720 [==============================] - 25s 7ms/step - loss: 0.5960 - accuracy: 0.6732\n",
      "Epoch 3/6\n",
      "3720/3720 [==============================] - 26s 7ms/step - loss: 0.5815 - accuracy: 0.6870\n",
      "Epoch 4/6\n",
      "3720/3720 [==============================] - 26s 7ms/step - loss: 0.5748 - accuracy: 0.6919\n",
      "Epoch 5/6\n",
      "3720/3720 [==============================] - 25s 7ms/step - loss: 0.5718 - accuracy: 0.6928\n",
      "Epoch 6/6\n",
      "3720/3720 [==============================] - 25s 7ms/step - loss: 0.5692 - accuracy: 0.6973\n",
      "Training completed!\n"
     ]
    }
   ],
   "source": [
    "# Build model\n",
    "x = x_in = Input(train_tensor.shape[1:])\n",
    "x = Activation('relu')(x)\n",
    "x = Dropout(0.7)(x)\n",
    "x = Dense(1152)(x)\n",
    "x = Activation('relu')(x)\n",
    "x = Dense(288)(x)\n",
    "x = Activation('relu')(x)\n",
    "x = Dense(72)(x)\n",
    "x = Activation('relu')(x)\n",
    "x = Dense(18)(x)\n",
    "x = Activation('relu')(x)\n",
    "x = Dense(1)(x)\n",
    "x = Activation('sigmoid')(x)\n",
    "model = Model(inputs=x_in, outputs=x)\n",
    "print(\"Compiling model...\")\n",
    "model.compile(loss='binary_crossentropy', optimizer='adam', metrics=['accuracy'])\n",
    "\n",
    "# Train model\n",
    "print(\"Training model...\")\n",
    "history = model.fit(x = train_tensor, y = labels, epochs=6)\n",
    "print(\"Training completed!\")"
   ]
  },
  {
   "cell_type": "markdown",
   "metadata": {
    "id": "AHlxVzoporo8"
   },
   "source": [
    "##visualize training"
   ]
  },
  {
   "cell_type": "code",
   "execution_count": 12,
   "metadata": {
    "colab": {
     "base_uri": "https://localhost:8080/",
     "height": 573
    },
    "id": "RWTtfsbAovtw",
    "outputId": "670a200e-42b6-477e-8518-adc0b7ed0e22"
   },
   "outputs": [
    {
     "data": {
      "image/png": "[encoded data removed]",
      "text/plain": [
       "<Figure size 432x288 with 1 Axes>"
      ]
     },
     "metadata": {
      "needs_background": "light",
      "tags": []
     },
     "output_type": "display_data"
    },
    {
     "data": {
      "image/png": "[encoded data removed]",
      "text/plain": [
       "<Figure size 432x288 with 1 Axes>"
      ]
     },
     "metadata": {
      "needs_background": "light",
      "tags": []
     },
     "output_type": "display_data"
    }
   ],
   "source": [
    "# https://machinelearningmastery.com/display-deep-learning-model-training-history-in-keras/\n",
    "plt.plot(history.history['loss'], label='train')\n",
    "plt.title('loss')\n",
    "plt.ylabel('loss')\n",
    "plt.xlabel('epoch')\n",
    "plt.legend()\n",
    "plt.show()\n",
    "plt.plot(history.history['accuracy'], label='train')\n",
    "plt.title('accuracy')\n",
    "plt.ylabel('accuracy')\n",
    "plt.xlabel('epoch')\n",
    "plt.legend()\n",
    "plt.show()"
   ]
  },
  {
   "cell_type": "markdown",
   "metadata": {
    "id": "84NPPvqio00j"
   },
   "source": [
    "##Make prediction"
   ]
  },
  {
   "cell_type": "code",
   "execution_count": 14,
   "metadata": {
    "id": "bdpH5z3Uo0MI"
   },
   "outputs": [],
   "source": [
    "# Predict\n",
    "test_y = model.predict(test_tensor)\n",
    "\n",
    "# Create submission file\n",
    "test_y_fixed = np.where(test_y < 0.5, 0, 1)\n",
    "\n",
    "np.savetxt('submission.txt', test_y_fixed, fmt='%d')"
   ]
  }
 ],
 "metadata": {
  "accelerator": "GPU",
  "colab": {
   "collapsed_sections": [
    "c8t5aFRJEgda",
    "F4FHlfmo2VQX",
    "WQZsZQhcQ3UX",
    "ndnbnayJCc9m",
    "VkW4Smj7CiCi",
    "4L3JbXyKACga",
    "F-9ljmrZj9U6",
    "AHlxVzoporo8",
    "ePZkAnZox35z"
   ],
   "name": "task4.ipynb",
   "provenance": [],
   "toc_visible": true
  },
  "kernelspec": {
   "display_name": "Python 3",
   "language": "python",
   "name": "python3"
  },
  "language_info": {
   "codemirror_mode": {
    "name": "ipython",
    "version": 3
   },
   "file_extension": ".py",
   "mimetype": "text/x-python",
   "name": "python",
   "nbconvert_exporter": "python",
   "pygments_lexer": "ipython3",
   "version": "3.9.2"
  }
 },
 "nbformat": 4,
 "nbformat_minor": 1
}
