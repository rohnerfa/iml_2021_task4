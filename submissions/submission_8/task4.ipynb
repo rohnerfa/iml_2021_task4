{
  "nbformat": 4,
  "nbformat_minor": 0,
  "metadata": {
    "colab": {
      "name": "task4.ipynb",
      "provenance": [],
      "collapsed_sections": [
        "c8t5aFRJEgda",
        "F4FHlfmo2VQX",
        "WQZsZQhcQ3UX",
        "ndnbnayJCc9m",
        "VkW4Smj7CiCi",
        "4L3JbXyKACga",
        "F-9ljmrZj9U6",
        "AHlxVzoporo8",
        "ePZkAnZox35z"
      ]
    },
    "kernelspec": {
      "name": "python3",
      "display_name": "Python 3"
    },
    "language_info": {
      "name": "python"
    },
    "accelerator": "GPU"
  },
  "cells": [
    {
      "cell_type": "markdown",
      "metadata": {
        "id": "6sxvRq6ikzeO"
      },
      "source": [
        "##Import Packages"
      ]
    },
    {
      "cell_type": "code",
      "metadata": {
        "id": "KJ5uadTt2ahV"
      },
      "source": [
        "import tensorflow as tf\n",
        "\n",
        "import pandas as pd\n",
        "import numpy as np\n",
        "\n",
        "#from numpy import asarray\n",
        "from sklearn.model_selection import train_test_split\n",
        "import time\n",
        "from tensorflow.keras.models import Sequential\n",
        "#from tensorflow.keras.models import Model\n",
        "from tensorflow.keras.layers import Input, Activation, Dense, Dropout, Conv2D, MaxPooling2D, Flatten, Concatenate, BatchNormalization\n",
        "from tensorflow.keras.utils import plot_model\n",
        "from tensorflow.keras.constraints import MaxNorm\n",
        "from tensorflow.keras.callbacks import EarlyStopping, ModelCheckpoint\n",
        "from tensorflow.keras.models import load_model\n",
        "from matplotlib import image\n",
        "import matplotlib.pyplot as plt\n",
        "\n",
        "import zipfile\n",
        "from tensorflow.keras.applications import VGG16\n",
        "from tensorflow.keras.applications.vgg16 import preprocess_input\n",
        "import matplotlib as mpl\n",
        "\n",
        "\n",
        "import os\n",
        "#from PIL import Image\n",
        "from tensorflow.keras.preprocessing.image import load_img, img_to_array, array_to_img\n",
        "import uuid\n",
        "from tqdm import tqdm\n",
        "import shutil\n",
        "import pickle\n",
        "from tensorflow.keras.models import Model"
      ],
      "execution_count": 1,
      "outputs": []
    },
    {
      "cell_type": "markdown",
      "metadata": {
        "id": "Jh5QRqDdJ9Tj"
      },
      "source": [
        "# Load the dataset"
      ]
    },
    {
      "cell_type": "code",
      "metadata": {
        "id": "UQMq2Kw0GTQF",
        "colab": {
          "base_uri": "https://localhost:8080/"
        },
        "outputId": "47b0b078-a7da-4a68-b0f2-94354be3b8e8"
      },
      "source": [
        "from google.colab import auth\n",
        "auth.authenticate_user()\n",
        "\n",
        "project_id = 'dynamic-fulcrum-314308'\n",
        "!gcloud config set project {project_id}\n",
        "\n",
        "from google.colab import drive\n",
        "drive.mount('/content/drive')"
      ],
      "execution_count": 3,
      "outputs": [
        {
          "output_type": "stream",
          "text": [
            "Updated property [core/project].\n",
            "\n",
            "\n",
            "To take a quick anonymous survey, run:\n",
            "  $ gcloud survey\n",
            "\n",
            "Mounted at /content/drive\n"
          ],
          "name": "stdout"
        }
      ]
    },
    {
      "cell_type": "markdown",
      "metadata": {
        "id": "w2OvsD2h1Fds"
      },
      "source": [
        "read the training/test triplets"
      ]
    },
    {
      "cell_type": "code",
      "metadata": {
        "id": "A8K7nqc2LQO1"
      },
      "source": [
        "train_triplets = pd.read_csv('/content/drive/MyDrive/ml_task4/train_triplets.txt', delim_whitespace=True, header=None, names =['anchor','positive','negative'])\n",
        "test_triplets = pd.read_csv('/content/drive/MyDrive/ml_task4/test_triplets.txt', delim_whitespace=True, header=None, names =['anchor','positive','negative'])"
      ],
      "execution_count": 2,
      "outputs": []
    },
    {
      "cell_type": "markdown",
      "metadata": {
        "id": "3aQWjw1D1J1T"
      },
      "source": [
        "unzip the food images"
      ]
    },
    {
      "cell_type": "code",
      "metadata": {
        "id": "3B8FI3QkigNl",
        "colab": {
          "base_uri": "https://localhost:8080/"
        },
        "outputId": "570701b5-e841-4b66-c3a5-be0c560c6a46"
      },
      "source": [
        "with zipfile.ZipFile('/content/drive/MyDrive/ml_task4/food.zip', 'r') as zip_ref:\n",
        "    zip_ref.extractall('/content/')\n",
        "\n",
        "print('Extracted images on local drive.')"
      ],
      "execution_count": null,
      "outputs": [
        {
          "output_type": "stream",
          "text": [
            "Extracted images on local drive.\n"
          ],
          "name": "stdout"
        }
      ]
    },
    {
      "cell_type": "markdown",
      "metadata": {
        "id": "-LlDXFvCNsou"
      },
      "source": [
        "#Generate resized images"
      ]
    },
    {
      "cell_type": "code",
      "metadata": {
        "id": "nb3v82ZWe9aq"
      },
      "source": [
        "img_path = r'/content/food'\n",
        "image_resized_path = r'/content/food_res/img'\n",
        "if not os.path.exists(image_resized_path):\n",
        "  os.makedirs(image_resized_path)\n",
        "\n",
        "img_height = 299\n",
        "img_width = 299"
      ],
      "execution_count": 4,
      "outputs": []
    },
    {
      "cell_type": "markdown",
      "metadata": {
        "id": "c8t5aFRJEgda"
      },
      "source": [
        "##Skip if resized images already exist"
      ]
    },
    {
      "cell_type": "markdown",
      "metadata": {
        "id": "AX01KaDk25Zg"
      },
      "source": [
        "resize all images to have the same size, use padding if necessary"
      ]
    },
    {
      "cell_type": "code",
      "metadata": {
        "colab": {
          "base_uri": "https://localhost:8080/"
        },
        "id": "IMtra_ld24rs",
        "outputId": "050d766d-b6fb-4ec1-dd0b-f76c09ee97bc"
      },
      "source": [
        "for img_name in tqdm(os.listdir(img_path)):\n",
        "  if img_name.endswith('.jpg'):\n",
        "    img = load_img(img_path + '/' + img_name)\n",
        "    img = img_to_array(img)\n",
        "    img = tf.image.resize_with_pad(img, img_height, img_width, antialias=True)\n",
        "    img = array_to_img(img)\n",
        "    img.save(image_resized_path + '/' + img_name)\n",
        "\n",
        "print('Resized images and saved to new directory.')"
      ],
      "execution_count": null,
      "outputs": [
        {
          "output_type": "stream",
          "text": [
            "100%|██████████| 10001/10001 [02:55<00:00, 57.09it/s]"
          ],
          "name": "stderr"
        },
        {
          "output_type": "stream",
          "text": [
            "Resized images and saved to new directory.\n"
          ],
          "name": "stdout"
        },
        {
          "output_type": "stream",
          "text": [
            "\n"
          ],
          "name": "stderr"
        }
      ]
    },
    {
      "cell_type": "code",
      "metadata": {
        "colab": {
          "base_uri": "https://localhost:8080/",
          "height": 35
        },
        "id": "hhVmQmWdF4Oe",
        "outputId": "0ef1dad1-688f-483f-a125-261142320ecb"
      },
      "source": [
        "shutil.make_archive('/content/food_res/img', 'zip', image_resized_path)"
      ],
      "execution_count": null,
      "outputs": [
        {
          "output_type": "execute_result",
          "data": {
            "application/vnd.google.colaboratory.intrinsic+json": {
              "type": "string"
            },
            "text/plain": [
              "'/content/food_res.zip'"
            ]
          },
          "metadata": {
            "tags": []
          },
          "execution_count": 13
        }
      ]
    },
    {
      "cell_type": "code",
      "metadata": {
        "colab": {
          "base_uri": "https://localhost:8080/"
        },
        "id": "I7xboo8uC2MA",
        "outputId": "1885b956-4b82-47ed-95cf-b41487c9dabb"
      },
      "source": [
        "!gsutil cp food_res.zip gs://intro-ml-task4-fs21-permanent"
      ],
      "execution_count": null,
      "outputs": [
        {
          "output_type": "stream",
          "text": [
            "Copying file://food_res.zip [Content-Type=application/zip]...\n",
            "/ [0 files][    0.0 B/157.0 MiB]                                                \r==> NOTE: You are uploading one or more large file(s), which would run\n",
            "significantly faster if you enable parallel composite uploads. This\n",
            "feature can be enabled by editing the\n",
            "\"parallel_composite_upload_threshold\" value in your .boto\n",
            "configuration file. However, note that if you do this large files will\n",
            "be uploaded as `composite objects\n",
            "<https://cloud.google.com/storage/docs/composite-objects>`_,which\n",
            "means that any user who downloads such objects will need to have a\n",
            "compiled crcmod installed (see \"gsutil help crcmod\"). This is because\n",
            "without a compiled crcmod, computing checksums on composite objects is\n",
            "so slow that gsutil disables downloads of composite objects.\n",
            "\n",
            "| [1 files][157.0 MiB/157.0 MiB]                                                \n",
            "Operation completed over 1 objects/157.0 MiB.                                    \n"
          ],
          "name": "stdout"
        }
      ]
    },
    {
      "cell_type": "markdown",
      "metadata": {
        "id": "F4FHlfmo2VQX"
      },
      "source": [
        "##Run if resized images already in bucket"
      ]
    },
    {
      "cell_type": "code",
      "metadata": {
        "id": "ENA18MXe2Yse",
        "colab": {
          "base_uri": "https://localhost:8080/"
        },
        "outputId": "bb867454-159e-4221-8953-d35485184e33"
      },
      "source": [
        "!gsutil cp gs://intro-ml-task4-fs21-permanent/food_res.zip .\n",
        "\n",
        "!unzip -q food_res.zip -d '/content/food_res/img'\n",
        "\n",
        "!rm food_res.zip"
      ],
      "execution_count": 5,
      "outputs": [
        {
          "output_type": "stream",
          "text": [
            "Copying gs://intro-ml-task4-fs21-permanent/food_res.zip...\n",
            "| [1 files][157.0 MiB/157.0 MiB]                                                \n",
            "Operation completed over 1 objects/157.0 MiB.                                    \n"
          ],
          "name": "stdout"
        }
      ]
    },
    {
      "cell_type": "markdown",
      "metadata": {
        "id": "WQZsZQhcQ3UX"
      },
      "source": [
        "#Feature Extraction"
      ]
    },
    {
      "cell_type": "markdown",
      "metadata": {
        "id": "ndnbnayJCc9m"
      },
      "source": [
        "##old version using functions"
      ]
    },
    {
      "cell_type": "code",
      "metadata": {
        "id": "jV6OjZkZQ4vt",
        "colab": {
          "base_uri": "https://localhost:8080/"
        },
        "outputId": "c2272181-7412-48c3-e330-f087dc6e3b1f"
      },
      "source": [
        "# input_shape = (299,299,3)\n",
        "\n",
        "# # Features file\n",
        "# features_file = 'features.npy'\n",
        "\n",
        "# # Generate the feature extraction neural network\n",
        "# def feature_extraction_net(input_shape):\n",
        "#   #base_model_Xception = tf.keras.applications.Xception(include_top=False, weights=\"imagenet\", pooling='avg')\n",
        "#   base_model_inception = tf.keras.applications.InceptionResNetV2(pooling='avg',include_top=False)\n",
        "\n",
        "#   # freeze the weights\n",
        "#   #base_model_Xception.trainable=False\n",
        "#   base_model_inception.trainable=False\n",
        "\n",
        "#   # declare input\n",
        "#   inputs = Input(shape=input_shape)\n",
        "#   x = tf.keras.applications.inception_resnet_v2.preprocess_input(inputs)\n",
        "#   #outputs = base_model_Xception(inputs)\n",
        "#   outputs = base_model_inception(x)\n",
        "\n",
        "#   #obtain model and return\n",
        "#   base_model = tf.keras.Model(inputs=inputs, outputs=outputs)\n",
        "\n",
        "#   return base_model\n",
        "\n",
        "# # Generate Dataset\n",
        "# train_res = tf.keras.preprocessing.image_dataset_from_directory(\n",
        "#     '/content/food_res',\n",
        "#     label_mode=None,\n",
        "#     color_mode=\"rgb\",\n",
        "#     batch_size=32,\n",
        "#     image_size=(299, 299),\n",
        "#     shuffle=False\n",
        "# )\n",
        "\n",
        "\n",
        "\n",
        "# # Perform feature extraction\n",
        "# def feature_extraction():\n",
        "#     # Declare feature selection model\n",
        "#     feature_extraction = feature_extraction_net(input_shape)\n",
        "\n",
        "#     # Compute features\n",
        "#     features = feature_extraction.predict(train_res)\n",
        "\n",
        "#     # Return features vector\n",
        "#     return features\n",
        "\n",
        "# features = feature_extraction()\n",
        "\n"
      ],
      "execution_count": null,
      "outputs": [
        {
          "output_type": "stream",
          "text": [
            "Found 10000 files belonging to 1 classes.\n",
            "Downloading data from https://storage.googleapis.com/tensorflow/keras-applications/inception_resnet_v2/inception_resnet_v2_weights_tf_dim_ordering_tf_kernels_notop.h5\n",
            "219062272/219055592 [==============================] - 5s 0us/step\n"
          ],
          "name": "stdout"
        }
      ]
    },
    {
      "cell_type": "markdown",
      "metadata": {
        "id": "VkW4Smj7CiCi"
      },
      "source": [
        "##new version"
      ]
    },
    {
      "cell_type": "code",
      "metadata": {
        "colab": {
          "base_uri": "https://localhost:8080/"
        },
        "id": "JVAx_VxmAYt1",
        "outputId": "2d3bbd33-bd1c-48c7-93ac-93f071e2d849"
      },
      "source": [
        "input_shape = (299,299,3)\n",
        "\n",
        "features_file = 'features.npy'\n",
        "\n",
        "# Generate Dataset\n",
        "train_res = tf.keras.preprocessing.image_dataset_from_directory(\n",
        "    '/content/food_res',\n",
        "    label_mode=None,\n",
        "    color_mode=\"rgb\",\n",
        "    batch_size=32,\n",
        "    image_size=(299, 299),\n",
        "    shuffle=False\n",
        ")\n",
        "\n",
        "base_model_Xception = tf.keras.applications.Xception(include_top=False, weights=\"imagenet\", pooling='avg')\n",
        "#base_model_inception = tf.keras.applications.InceptionResNetV2(pooling='avg',include_top=False)\n",
        "\n",
        "# freeze the weights\n",
        "base_model_Xception.trainable=False\n",
        "#base_model_inception.trainable=False\n",
        "\n",
        "# declare input\n",
        "inputs = Input(shape=input_shape)\n",
        "x = tf.keras.applications.xception.preprocess_input(inputs)\n",
        "#x = tf.keras.applications.inception_resnet_v2.preprocess_input(inputs)\n",
        "outputs = base_model_Xception(x)\n",
        "#outputs = base_model_inception(x)\n",
        "\n",
        "#obtain model and return\n",
        "base_model = tf.keras.Model(inputs=inputs, outputs=outputs)\n",
        "\n",
        "# Compute features\n",
        "features = base_model.predict(train_res)"
      ],
      "execution_count": 12,
      "outputs": [
        {
          "output_type": "stream",
          "text": [
            "Found 10000 files belonging to 1 classes.\n"
          ],
          "name": "stdout"
        }
      ]
    },
    {
      "cell_type": "markdown",
      "metadata": {
        "id": "4L3JbXyKACga"
      },
      "source": [
        "##save features for future use"
      ]
    },
    {
      "cell_type": "code",
      "metadata": {
        "id": "k4Y9HLPi_-3X"
      },
      "source": [
        "features_file_xception = 'features_xception.npy'\n",
        "with open(features_file_xception, 'wb') as f:\n",
        "  np.save(f, features)\n",
        "\n",
        "# #old saving method\n",
        "# features_file_pickle = 'features.pckl'\n",
        "# with open(features_file_pickle, 'wb') as f:\n",
        "#   pickle.dump(features, f)"
      ],
      "execution_count": 13,
      "outputs": []
    },
    {
      "cell_type": "code",
      "metadata": {
        "colab": {
          "base_uri": "https://localhost:8080/"
        },
        "id": "y1KClM8cdhMi",
        "outputId": "ba3d68a2-9455-4b8e-e790-453ddbe86e3c"
      },
      "source": [
        "# run if not yet uploaded\n",
        "if os.path.exists(features_file_xception):\n",
        "  !gsutil cp features_xception.npy gs://intro-ml-task4-fs21-permanent\n",
        "\n",
        "# if os.path.exists(features_file_pickle):\n",
        "#   !gsutil cp features.pckl gs://intro-ml-task4-fs21-permanent"
      ],
      "execution_count": 14,
      "outputs": [
        {
          "output_type": "stream",
          "text": [
            "Copying file://features_xception.npy [Content-Type=application/octet-stream]...\n",
            "\\\n",
            "Operation completed over 1 objects/78.1 MiB.                                     \n"
          ],
          "name": "stdout"
        }
      ]
    },
    {
      "cell_type": "markdown",
      "metadata": {
        "id": "4QMm0WgdkXHx"
      },
      "source": [
        "##If features already extracted"
      ]
    },
    {
      "cell_type": "code",
      "metadata": {
        "colab": {
          "base_uri": "https://localhost:8080/"
        },
        "id": "yJaQHvt0QyF6",
        "outputId": "a54d91bd-a22e-4c42-ba35-8b9dc4529526"
      },
      "source": [
        "!gsutil cp gs://intro-ml-task4-fs21-permanent/features.npy .\n",
        "\n",
        "features = np.load('features.npy')\n",
        "\n",
        "# # old method\n",
        "# !gsutil cp gs://intro-ml-task4-fs21-permanent/features.pckl ."
      ],
      "execution_count": 5,
      "outputs": [
        {
          "output_type": "stream",
          "text": [
            "Copying gs://intro-ml-task4-fs21-permanent/features.npy...\n",
            "| [1 files][ 58.6 MiB/ 58.6 MiB]                                                \n",
            "Operation completed over 1 objects/58.6 MiB.                                     \n"
          ],
          "name": "stdout"
        }
      ]
    },
    {
      "cell_type": "code",
      "metadata": {
        "id": "d54NsaKxD7gH"
      },
      "source": [
        "#!gsutil cp gs://intro-ml-task4-fs21-permanent/features_xception.npy .\n",
        "features = np.load('features_xception.npy')"
      ],
      "execution_count": 3,
      "outputs": []
    },
    {
      "cell_type": "markdown",
      "metadata": {
        "id": "F-9ljmrZj9U6"
      },
      "source": [
        "# Create Triplet tensor "
      ]
    },
    {
      "cell_type": "code",
      "metadata": {
        "id": "lnW21ltfMf4h"
      },
      "source": [
        "def generate_feature_tensor(features, triplet_df, training=True):\n",
        "  if training:\n",
        "    train_tensor = np.zeros((2*triplet_df.shape[0],3*features.shape[1]))\n",
        "    labels = np.empty(0)\n",
        "\n",
        "    for i in tqdm(range(triplet_df.shape[0])):\n",
        "      anchor, positive, negative = triplet_df.iloc[i,:]\n",
        "\n",
        "      triplet_features = np.concatenate([features[anchor,:],features[positive,:],features[negative,:]])\n",
        "      triplet_features_switched = np.concatenate([features[anchor,:],features[negative,:],features[positive,:]])\n",
        "      train_tensor[2*i] = triplet_features\n",
        "      train_tensor[(2*i)+1] = triplet_features_switched\n",
        "      labels = np.append(labels, [1,0])\n",
        "\n",
        "    return train_tensor, labels\n",
        "\n",
        "  else:\n",
        "    test_tensor = np.zeros((triplet_df.shape[0],3*features.shape[1]))\n",
        "\n",
        "    for i in tqdm(range(triplet_df.shape[0])):\n",
        "      anchor, positive, negative = triplet_df.iloc[i,:]\n",
        "\n",
        "      triplet_features = np.concatenate([features[anchor,:],features[positive,:],features[negative,:]])\n",
        "      test_tensor[i] = triplet_features\n",
        "\n",
        "    return test_tensor"
      ],
      "execution_count": 4,
      "outputs": []
    },
    {
      "cell_type": "code",
      "metadata": {
        "id": "EA6QoJN1nSNZ",
        "colab": {
          "base_uri": "https://localhost:8080/"
        },
        "outputId": "ba03ce8c-5745-424e-8dbf-118c3487b77f"
      },
      "source": [
        "train_tensor, labels = generate_feature_tensor(features, train_triplets, training=True)"
      ],
      "execution_count": 5,
      "outputs": [
        {
          "output_type": "stream",
          "text": [
            "100%|██████████| 59515/59515 [00:15<00:00, 3784.43it/s]\n"
          ],
          "name": "stderr"
        }
      ]
    },
    {
      "cell_type": "code",
      "metadata": {
        "id": "wrWNs9Gg9lgq"
      },
      "source": [
        "del model"
      ],
      "execution_count": 11,
      "outputs": []
    },
    {
      "cell_type": "markdown",
      "metadata": {
        "id": "-ec05ppsoGQM"
      },
      "source": [
        "#Build model"
      ]
    },
    {
      "cell_type": "code",
      "metadata": {
        "id": "h1EbFg04oJhP",
        "colab": {
          "base_uri": "https://localhost:8080/"
        },
        "outputId": "561f3a4e-7906-451c-cc01-619c0fa67456"
      },
      "source": [
        "# Build model\n",
        "x = x_in = Input(train_tensor.shape[1:])\n",
        "x = Dense(1024, activation='relu')(x)\n",
        "x = Dropout(0.1)(x)\n",
        "x = Dense(512, activation='relu')(x)\n",
        "x = Dropout(0.1)(x)\n",
        "x = Dense(256, activation='relu')(x)\n",
        "x = Dropout(0.1)(x)\n",
        "x = Dense(64, activation='relu')(x)\n",
        "x = Dropout(0.1)(x)\n",
        "x = Dense(16, activation='relu')(x)\n",
        "x = Dropout(0.1)(x)\n",
        "x = Dense(1, activation='sigmoid', kernel_regularizer='l2')(x)\n",
        "model = Model(inputs=x_in, outputs=x)\n",
        "print(\"Compiling model...\")\n",
        "model.compile(loss='binary_crossentropy', optimizer='adam', metrics=['accuracy'])\n",
        "callback = tf.keras.callbacks.EarlyStopping(monitor='loss', patience=3, min_delta=0.05)\n",
        "# Train model\n",
        "print(\"Training model...\")\n",
        "history = model.fit(x = train_tensor, y = labels, epochs=4, validation_split=0.3)\n",
        "print(\"Training completed!\")"
      ],
      "execution_count": 6,
      "outputs": [
        {
          "output_type": "stream",
          "text": [
            "Compiling model...\n",
            "Training model...\n",
            "Epoch 1/4\n",
            "2604/2604 [==============================] - 17s 5ms/step - loss: 0.6491 - accuracy: 0.6105 - val_loss: 0.5473 - val_accuracy: 0.7189\n",
            "Epoch 2/4\n",
            "2604/2604 [==============================] - 12s 5ms/step - loss: 0.5396 - accuracy: 0.7260 - val_loss: 0.5286 - val_accuracy: 0.7305\n",
            "Epoch 3/4\n",
            "2604/2604 [==============================] - 12s 5ms/step - loss: 0.4983 - accuracy: 0.7553 - val_loss: 0.5273 - val_accuracy: 0.7371\n",
            "Epoch 4/4\n",
            "2604/2604 [==============================] - 12s 5ms/step - loss: 0.4574 - accuracy: 0.7814 - val_loss: 0.4868 - val_accuracy: 0.7607\n",
            "Training completed!\n"
          ],
          "name": "stdout"
        }
      ]
    },
    {
      "cell_type": "markdown",
      "metadata": {
        "id": "AHlxVzoporo8"
      },
      "source": [
        "##visualize training"
      ]
    },
    {
      "cell_type": "code",
      "metadata": {
        "id": "RWTtfsbAovtw",
        "colab": {
          "base_uri": "https://localhost:8080/",
          "height": 573
        },
        "outputId": "27f900af-f2ea-4432-94ea-8070dfec2695"
      },
      "source": [
        "# https://machinelearningmastery.com/display-deep-learning-model-training-history-in-keras/\n",
        "plt.plot(history.history['loss'], label='train')\n",
        "plt.title('loss')\n",
        "plt.ylabel('loss')\n",
        "plt.xlabel('epoch')\n",
        "plt.legend()\n",
        "plt.show()\n",
        "plt.plot(history.history['accuracy'], label='train')\n",
        "plt.title('accuracy')\n",
        "plt.ylabel('accuracy')\n",
        "plt.xlabel('epoch')\n",
        "plt.legend()\n",
        "plt.show()"
      ],
      "execution_count": 7,
      "outputs": [
        {
          "output_type": "display_data",
          "data": {
            "image/png": "[encoded data removed]",
            "text/plain": [
              "<Figure size 432x288 with 1 Axes>"
            ]
          },
          "metadata": {
            "tags": [],
            "needs_background": "light"
          }
        },
        {
          "output_type": "display_data",
          "data": {
            "image/png": "[encoded data removed]",
            "text/plain": [
              "<Figure size 432x288 with 1 Axes>"
            ]
          },
          "metadata": {
            "tags": [],
            "needs_background": "light"
          }
        }
      ]
    },
    {
      "cell_type": "markdown",
      "metadata": {
        "id": "84NPPvqio00j"
      },
      "source": [
        "##Make prediction"
      ]
    },
    {
      "cell_type": "code",
      "metadata": {
        "id": "bdpH5z3Uo0MI",
        "colab": {
          "base_uri": "https://localhost:8080/"
        },
        "outputId": "47b4fac0-f523-400e-f58b-dfb0798f5aa7"
      },
      "source": [
        "del train_tensor\n",
        "\n",
        "test_tensor = generate_feature_tensor(features, test_triplets, training=False)\n",
        "\n",
        "# Predict\n",
        "test_y = model.predict(test_tensor)\n",
        "\n",
        "# Create submission file\n",
        "test_y_fixed = np.where(test_y < 0.5, 0, 1)\n",
        "\n",
        "np.savetxt('submission.txt', test_y_fixed, fmt='%d')"
      ],
      "execution_count": 8,
      "outputs": [
        {
          "output_type": "stream",
          "text": [
            "100%|██████████| 59544/59544 [00:07<00:00, 7541.49it/s]\n"
          ],
          "name": "stderr"
        }
      ]
    }
  ]
}