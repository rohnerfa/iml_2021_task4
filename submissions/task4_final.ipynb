{
  "nbformat": 4,
  "nbformat_minor": 0,
  "metadata": {
    "colab": {
      "name": "task4.ipynb",
      "provenance": [],
      "collapsed_sections": [
        "4L3JbXyKACga",
        "SfLRZhhx6pI_"
      ],
      "toc_visible": true
    },
    "kernelspec": {
      "name": "python3",
      "display_name": "Python 3"
    },
    "language_info": {
      "name": "python"
    },
    "accelerator": "GPU"
  },
  "cells": [
    {
      "cell_type": "markdown",
      "metadata": {
        "id": "3MHExzKEBwAy"
      },
      "source": [
        "To make this notebook reproducible, please change the paths to the files from the handout!\n"
      ]
    },
    {
      "cell_type": "markdown",
      "metadata": {
        "id": "6sxvRq6ikzeO"
      },
      "source": [
        "##Import Packages"
      ]
    },
    {
      "cell_type": "code",
      "metadata": {
        "id": "KJ5uadTt2ahV"
      },
      "source": [
        "import tensorflow as tf\n",
        "tf.random.set_seed(42)\n",
        "\n",
        "import pandas as pd\n",
        "import numpy as np\n",
        "\n",
        "from sklearn.model_selection import train_test_split\n",
        "\n",
        "from tensorflow.keras.models import Model\n",
        "from tensorflow.keras.layers import Input, Activation, Dense, Dropout, Concatenate, BatchNormalization\n",
        "from tensorflow.keras.utils import plot_model\n",
        "from tensorflow.keras.callbacks import EarlyStopping\n",
        "from tensorflow.keras.models import load_model\n",
        "from tensorflow.keras import regularizers\n",
        "from tensorflow.keras.constraints import MaxNorm\n",
        "from tensorflow.keras.preprocessing.image import load_img, img_to_array, array_to_img\n",
        "\n",
        "from matplotlib import image\n",
        "import matplotlib.pyplot as plt\n",
        "import matplotlib as mpl\n",
        "\n",
        "import zipfile\n",
        "import os\n",
        "from tqdm import tqdm\n",
        "import shutil"
      ],
      "execution_count": 1,
      "outputs": []
    },
    {
      "cell_type": "markdown",
      "metadata": {
        "id": "Jh5QRqDdJ9Tj"
      },
      "source": [
        "# Load the dataset"
      ]
    },
    {
      "cell_type": "code",
      "metadata": {
        "id": "QBh2exAfErhW"
      },
      "source": [
        "train_triplets_path = '/content/drive/MyDrive/ml_task4/train_triplets.txt'\n",
        "test_triplets_path = '/content/drive/MyDrive/ml_task4/test_triplets.txt'\n",
        "food_path = '/content/drive/MyDrive/ml_task4/food.zip'"
      ],
      "execution_count": 2,
      "outputs": []
    },
    {
      "cell_type": "code",
      "metadata": {
        "id": "UQMq2Kw0GTQF",
        "colab": {
          "base_uri": "https://localhost:8080/"
        },
        "outputId": "44e68ec9-ac0e-4138-bfcf-ea80de04e5b0"
      },
      "source": [
        "# from google.colab import auth\n",
        "# auth.authenticate_user()\n",
        "\n",
        "# project_id = 'dynamic-fulcrum-314308'\n",
        "# !gcloud config set project {project_id}\n",
        "\n",
        "# from google.colab import drive\n",
        "# drive.mount('/content/drive')"
      ],
      "execution_count": 3,
      "outputs": [
        {
          "output_type": "stream",
          "text": [
            "Updated property [core/project].\n",
            "Mounted at /content/drive\n"
          ],
          "name": "stdout"
        }
      ]
    },
    {
      "cell_type": "markdown",
      "metadata": {
        "id": "w2OvsD2h1Fds"
      },
      "source": [
        "read the training/test triplets"
      ]
    },
    {
      "cell_type": "code",
      "metadata": {
        "id": "A8K7nqc2LQO1"
      },
      "source": [
        "train_triplets = pd.read_csv(train_triplets_path, delim_whitespace=True, header=None, names =['anchor','positive','negative'])\n",
        "test_triplets = pd.read_csv(test_triplets_path, delim_whitespace=True, header=None, names =['anchor','positive','negative'])"
      ],
      "execution_count": 4,
      "outputs": []
    },
    {
      "cell_type": "markdown",
      "metadata": {
        "id": "3aQWjw1D1J1T"
      },
      "source": [
        "unzip the food images"
      ]
    },
    {
      "cell_type": "code",
      "metadata": {
        "id": "3B8FI3QkigNl",
        "colab": {
          "base_uri": "https://localhost:8080/"
        },
        "outputId": "400c3285-1fb1-4109-e1f3-7a7b2c296357"
      },
      "source": [
        "with zipfile.ZipFile(food_path, 'r') as zip_ref:\n",
        "    zip_ref.extractall('/content/')\n",
        "\n",
        "print('Extracted images to directory.')"
      ],
      "execution_count": null,
      "outputs": [
        {
          "output_type": "stream",
          "text": [
            "Extracted images on local drive.\n"
          ],
          "name": "stdout"
        }
      ]
    },
    {
      "cell_type": "markdown",
      "metadata": {
        "id": "-LlDXFvCNsou"
      },
      "source": [
        "#Generate resized images"
      ]
    },
    {
      "cell_type": "code",
      "metadata": {
        "id": "nb3v82ZWe9aq"
      },
      "source": [
        "img_path = r'/content/food'\n",
        "image_resized_path = r'/content/food_res/img'\n",
        "if not os.path.exists(image_resized_path):\n",
        "  os.makedirs(image_resized_path)\n",
        "\n",
        "img_height = 299\n",
        "img_width = 299"
      ],
      "execution_count": null,
      "outputs": []
    },
    {
      "cell_type": "markdown",
      "metadata": {
        "id": "c8t5aFRJEgda"
      },
      "source": [
        "##Skip if resized images already exist"
      ]
    },
    {
      "cell_type": "markdown",
      "metadata": {
        "id": "AX01KaDk25Zg"
      },
      "source": [
        "resize all images to have the same size, use padding if necessary"
      ]
    },
    {
      "cell_type": "code",
      "metadata": {
        "colab": {
          "base_uri": "https://localhost:8080/"
        },
        "id": "IMtra_ld24rs",
        "outputId": "406ff034-e10d-4b56-bf9f-1ca50993aa5c"
      },
      "source": [
        "for img_name in tqdm(os.listdir(img_path)):\n",
        "  if img_name.endswith('.jpg'):\n",
        "    img = load_img(img_path + '/' + img_name)\n",
        "    img = img_to_array(img)\n",
        "    img = tf.image.resize_with_pad(img, img_height, img_width, antialias=True)\n",
        "    img = array_to_img(img)\n",
        "    img.save(image_resized_path + '/' + img_name)"
      ],
      "execution_count": null,
      "outputs": [
        {
          "output_type": "stream",
          "text": [
            "100%|██████████| 10001/10001 [02:00<00:00, 82.76it/s]"
          ],
          "name": "stderr"
        },
        {
          "output_type": "stream",
          "text": [
            "Resized images and saved to new directory.\n"
          ],
          "name": "stdout"
        },
        {
          "output_type": "stream",
          "text": [
            "\n"
          ],
          "name": "stderr"
        }
      ]
    },
    {
      "cell_type": "code",
      "metadata": {
        "colab": {
          "base_uri": "https://localhost:8080/",
          "height": 35
        },
        "id": "hhVmQmWdF4Oe",
        "outputId": "0ef1dad1-688f-483f-a125-261142320ecb"
      },
      "source": [
        "# shutil.make_archive('/content/food_res/img', 'zip', image_resized_path)"
      ],
      "execution_count": null,
      "outputs": [
        {
          "output_type": "execute_result",
          "data": {
            "application/vnd.google.colaboratory.intrinsic+json": {
              "type": "string"
            },
            "text/plain": [
              "'/content/food_res.zip'"
            ]
          },
          "metadata": {
            "tags": []
          },
          "execution_count": 13
        }
      ]
    },
    {
      "cell_type": "code",
      "metadata": {
        "colab": {
          "base_uri": "https://localhost:8080/"
        },
        "id": "I7xboo8uC2MA",
        "outputId": "1885b956-4b82-47ed-95cf-b41487c9dabb"
      },
      "source": [
        "# !gsutil cp food_res.zip gs://intro-ml-task4-fs21-permanent"
      ],
      "execution_count": null,
      "outputs": [
        {
          "output_type": "stream",
          "text": [
            "Copying file://food_res.zip [Content-Type=application/zip]...\n",
            "/ [0 files][    0.0 B/157.0 MiB]                                                \r==> NOTE: You are uploading one or more large file(s), which would run\n",
            "significantly faster if you enable parallel composite uploads. This\n",
            "feature can be enabled by editing the\n",
            "\"parallel_composite_upload_threshold\" value in your .boto\n",
            "configuration file. However, note that if you do this large files will\n",
            "be uploaded as `composite objects\n",
            "<https://cloud.google.com/storage/docs/composite-objects>`_,which\n",
            "means that any user who downloads such objects will need to have a\n",
            "compiled crcmod installed (see \"gsutil help crcmod\"). This is because\n",
            "without a compiled crcmod, computing checksums on composite objects is\n",
            "so slow that gsutil disables downloads of composite objects.\n",
            "\n",
            "| [1 files][157.0 MiB/157.0 MiB]                                                \n",
            "Operation completed over 1 objects/157.0 MiB.                                    \n"
          ],
          "name": "stdout"
        }
      ]
    },
    {
      "cell_type": "markdown",
      "metadata": {
        "id": "F4FHlfmo2VQX"
      },
      "source": [
        "##Run if resized images already in bucket"
      ]
    },
    {
      "cell_type": "code",
      "metadata": {
        "id": "ENA18MXe2Yse",
        "colab": {
          "base_uri": "https://localhost:8080/"
        },
        "outputId": "e2293fc2-6f1a-4483-dc46-0140559b4fc1"
      },
      "source": [
        "# !gsutil cp gs://intro-ml-task4-fs21-permanent/food_res.zip .\n",
        "\n",
        "# !unzip -q food_res.zip -d '/content/food_res/img'\n",
        "\n",
        "# !rm food_res.zip"
      ],
      "execution_count": null,
      "outputs": [
        {
          "output_type": "stream",
          "text": [
            "Copying gs://intro-ml-task4-fs21-permanent/food_res.zip...\n",
            "| [1 files][157.0 MiB/157.0 MiB]                                                \n",
            "Operation completed over 1 objects/157.0 MiB.                                    \n"
          ],
          "name": "stdout"
        }
      ]
    },
    {
      "cell_type": "markdown",
      "metadata": {
        "id": "WQZsZQhcQ3UX"
      },
      "source": [
        "#Feature Extraction"
      ]
    },
    {
      "cell_type": "code",
      "metadata": {
        "colab": {
          "base_uri": "https://localhost:8080/"
        },
        "id": "JVAx_VxmAYt1",
        "outputId": "33748cdd-cf56-4b6a-9f4d-fc33a2a4f5cc"
      },
      "source": [
        "input_shape = (299,299,3)\n",
        "\n",
        "features_file = 'features.npy'\n",
        "\n",
        "# Generate Dataset\n",
        "train_res = tf.keras.preprocessing.image_dataset_from_directory(\n",
        "    '/content/food_res',\n",
        "    label_mode=None,\n",
        "    color_mode=\"rgb\",\n",
        "    batch_size=32,\n",
        "    image_size=(299, 299),\n",
        "    shuffle=False\n",
        ")\n",
        "\n",
        "#base_model_Xception = tf.keras.applications.Xception(include_top=False, weights=\"imagenet\", pooling='avg')\n",
        "base_model_inception = tf.keras.applications.InceptionResNetV2(pooling='avg',include_top=False)\n",
        "\n",
        "# freeze the weights\n",
        "#base_model_Xception.trainable=False\n",
        "base_model_inception.trainable=False\n",
        "\n",
        "# declare input\n",
        "inputs = Input(shape=input_shape)\n",
        "#x = tf.keras.applications.xception.preprocess_input(inputs)\n",
        "x = tf.keras.applications.inception_resnet_v2.preprocess_input(inputs)\n",
        "#outputs = base_model_Xception(x)\n",
        "outputs = base_model_inception(x)\n",
        "\n",
        "#obtain model and return\n",
        "base_model = tf.keras.Model(inputs=inputs, outputs=outputs)\n",
        "\n",
        "# Compute features\n",
        "features = base_model.predict(train_res)"
      ],
      "execution_count": null,
      "outputs": [
        {
          "output_type": "stream",
          "text": [
            "Found 10000 files belonging to 1 classes.\n"
          ],
          "name": "stdout"
        }
      ]
    },
    {
      "cell_type": "markdown",
      "metadata": {
        "id": "4L3JbXyKACga"
      },
      "source": [
        "##save features for future use"
      ]
    },
    {
      "cell_type": "code",
      "metadata": {
        "id": "k4Y9HLPi_-3X"
      },
      "source": [
        "# features_file_xception = 'features_xception.npy'\n",
        "# with open(features_file, 'wb') as f:\n",
        "#   np.save(f, features)"
      ],
      "execution_count": null,
      "outputs": []
    },
    {
      "cell_type": "code",
      "metadata": {
        "colab": {
          "base_uri": "https://localhost:8080/"
        },
        "id": "y1KClM8cdhMi",
        "outputId": "ba3d68a2-9455-4b8e-e790-453ddbe86e3c"
      },
      "source": [
        "# # run if not yet uploaded\n",
        "# if os.path.exists(features_file_xception):\n",
        "#   !gsutil cp features_xception.npy gs://intro-ml-task4-fs21-permanent"
      ],
      "execution_count": null,
      "outputs": [
        {
          "output_type": "stream",
          "text": [
            "Copying file://features_xception.npy [Content-Type=application/octet-stream]...\n",
            "\\\n",
            "Operation completed over 1 objects/78.1 MiB.                                     \n"
          ],
          "name": "stdout"
        }
      ]
    },
    {
      "cell_type": "markdown",
      "metadata": {
        "id": "4QMm0WgdkXHx"
      },
      "source": [
        "##If features already extracted"
      ]
    },
    {
      "cell_type": "code",
      "metadata": {
        "colab": {
          "base_uri": "https://localhost:8080/"
        },
        "id": "yJaQHvt0QyF6",
        "outputId": "4bb25d5e-18f0-4df3-a84e-52bbe42bfff9"
      },
      "source": [
        "# !gsutil cp gs://intro-ml-task4-fs21-permanent/features.npy .\n",
        "\n",
        "# features = np.load('features.npy')"
      ],
      "execution_count": 5,
      "outputs": [
        {
          "output_type": "stream",
          "text": [
            "Copying gs://intro-ml-task4-fs21-permanent/features.npy...\n",
            "- [1 files][ 58.6 MiB/ 58.6 MiB]                                                \n",
            "Operation completed over 1 objects/58.6 MiB.                                     \n"
          ],
          "name": "stdout"
        }
      ]
    },
    {
      "cell_type": "markdown",
      "metadata": {
        "id": "F-9ljmrZj9U6"
      },
      "source": [
        "# Create Triplet tensor "
      ]
    },
    {
      "cell_type": "code",
      "metadata": {
        "id": "eE7i-KVNkQXY"
      },
      "source": [
        "df = train_triplets.copy()\n",
        "df_switched = df[['anchor', 'negative', 'positive']]\n",
        "df_switched = df_switched.rename(columns={\"anchor\": \"anchor\", \"negative\": \"positive\", 'positive': 'negative'})\n",
        "\n",
        "df['label'] = 1\n",
        "df_switched['label'] = 0\n",
        "\n",
        "df_combined = pd.concat([df, df_switched])\n",
        "df_combined = df_combined.sample(frac=1).reset_index(drop=True)\n",
        "\n",
        "# df_train, df_val = train_test_split(df_combined, test_size=0.2)"
      ],
      "execution_count": 6,
      "outputs": []
    },
    {
      "cell_type": "code",
      "metadata": {
        "id": "wrWNs9Gg9lgq"
      },
      "source": [
        "def generate_feature_tensor(features, triplet_df, train=False):\n",
        "  if train:\n",
        "    train_tensor = np.zeros((triplet_df.shape[0],3*features.shape[1]))\n",
        "    labels = np.empty(0)\n",
        "\n",
        "    for i in tqdm(range(triplet_df.shape[0])):\n",
        "      anchor, positive, negative, label = triplet_df.iloc[i,:]\n",
        "\n",
        "      triplet_features = np.concatenate([features[int(anchor),:],features[int(positive),:],features[int(negative),:]])\n",
        "      train_tensor[i] = triplet_features\n",
        "      labels = np.append(labels, label)\n",
        "\n",
        "    return train_tensor, labels\n",
        "\n",
        "  else:\n",
        "    test_tensor = np.zeros((triplet_df.shape[0],3*features.shape[1]))\n",
        "    for i in tqdm(range(triplet_df.shape[0])):\n",
        "      anchor, positive, negative = triplet_df.iloc[i,:]\n",
        "\n",
        "      triplet_features = np.concatenate([features[int(anchor),:],features[int(positive),:],features[int(negative),:]])\n",
        "      test_tensor[i] = triplet_features\n",
        "\n",
        "    return test_tensor"
      ],
      "execution_count": 7,
      "outputs": []
    },
    {
      "cell_type": "code",
      "metadata": {
        "colab": {
          "base_uri": "https://localhost:8080/"
        },
        "id": "qyVqUnvUCqHw",
        "outputId": "2ce848a0-91cf-475a-909b-f59a7264dcba"
      },
      "source": [
        "train_tensor, labels = generate_feature_tensor(features, df_combined, train=True)"
      ],
      "execution_count": 8,
      "outputs": [
        {
          "output_type": "stream",
          "text": [
            "100%|██████████| 119030/119030 [00:28<00:00, 4189.58it/s]\n"
          ],
          "name": "stderr"
        }
      ]
    },
    {
      "cell_type": "code",
      "metadata": {
        "colab": {
          "base_uri": "https://localhost:8080/"
        },
        "id": "cymdXfYxjUjU",
        "outputId": "167e9938-50c4-4f7b-adf8-c34e454c5e7a"
      },
      "source": [
        "# train_tensor, labels = generate_feature_tensor(features, df_train, train=True)\n",
        "# val_tensor, val_labels = generate_feature_tensor(features, df_val, train=True)"
      ],
      "execution_count": null,
      "outputs": [
        {
          "output_type": "stream",
          "text": [
            "100%|██████████| 95224/95224 [00:24<00:00, 3866.58it/s]\n",
            "100%|██████████| 23806/23806 [00:03<00:00, 6039.86it/s]\n"
          ],
          "name": "stderr"
        }
      ]
    },
    {
      "cell_type": "markdown",
      "metadata": {
        "id": "SfLRZhhx6pI_"
      },
      "source": [
        "##GENERATOR VERSION"
      ]
    },
    {
      "cell_type": "markdown",
      "metadata": {
        "id": "WlU4g60Vz4cB"
      },
      "source": [
        "generator version for large feature file"
      ]
    },
    {
      "cell_type": "code",
      "metadata": {
        "id": "mQxxa2njz4Ip"
      },
      "source": [
        "# def tensor_from_feature_file(triplet_df, features, batch_size):\n",
        "#     # Image indices\n",
        "#     num_triplets = triplet_df.shape[0]\n",
        "#     features_length = features.shape[1]\n",
        "#     # Current idx\n",
        "#     curr_idx = 0\n",
        "\n",
        "#     while True:\n",
        "#         batch = np.empty((0, 3*features_length))\n",
        "#         labels = []\n",
        "\n",
        "#         while len(batch) < batch_size:\n",
        "#             anchor, positive, negative, label = triplet_df.iloc[curr_idx,:]\n",
        "\n",
        "#             feature = np.concatenate((features[int(anchor)], features[int(positive)], features[int(negative)]))\n",
        "#             batch = np.vstack((batch,feature))\n",
        "#             labels.append(label)\n",
        "#             curr_idx = (curr_idx + 1) % num_triplets\n",
        "\n",
        "#         yield (batch, np.array(labels))\n",
        "\n",
        "# # Initialize generator\n",
        "# train_tensor_gen = tensor_from_feature_file(df_train, features, 32)\n",
        "# val_tensor_gen = tensor_from_feature_file(df_val, features, 32)"
      ],
      "execution_count": null,
      "outputs": []
    },
    {
      "cell_type": "markdown",
      "metadata": {
        "id": "-ec05ppsoGQM"
      },
      "source": [
        "#Build model"
      ]
    },
    {
      "cell_type": "code",
      "metadata": {
        "id": "h1EbFg04oJhP"
      },
      "source": [
        "input = Input(train_tensor.shape[1:])\n",
        "x = Activation('relu')(input) #prime decomp: 2 x 2 x 2 x 2 x 2 x 2 x 2 x 2 x 2 x 3 x 3 = 4,608\n",
        "x = Dropout(0.5)(x)\n",
        "x = Dense(1536)(x)\n",
        "x = Activation('relu')(x)\n",
        "x = Dropout(0.2)(x)\n",
        "x = Dense(384)(x)\n",
        "x = Activation('relu')(x)\n",
        "x = Dropout(0.1)(x)\n",
        "x = Dense(96)(x)\n",
        "x = Activation('relu')(x)\n",
        "x = Dense(24)(x)\n",
        "x = Activation('relu')(x)\n",
        "x = Dense(1)(x)\n",
        "x = Activation('sigmoid')(x)\n",
        "model = Model(inputs=input, outputs=x)\n",
        "model.compile(loss='binary_crossentropy', optimizer='adam', metrics=['accuracy'])"
      ],
      "execution_count": 9,
      "outputs": []
    },
    {
      "cell_type": "code",
      "metadata": {
        "id": "zYa5_PC60FdH"
      },
      "source": [
        "# BS = 32\n",
        "# NUM_TRAIN_IMAGES = df_train.shape[0]\n",
        "# NUM_VAL_IMAGES = df_val.shape[0]\n",
        "\n",
        "# history = model.fit(x=train_tensor_gen, validation_data=val_tensor_gen, epochs=5, steps_per_epoch=NUM_TRAIN_IMAGES // BS, validation_steps=NUM_VAL_IMAGES // BS)"
      ],
      "execution_count": null,
      "outputs": []
    },
    {
      "cell_type": "code",
      "metadata": {
        "colab": {
          "base_uri": "https://localhost:8080/"
        },
        "id": "nTXl1Q2OsfcW",
        "outputId": "ed614087-7fbc-4df3-aabb-bf69d8810d81"
      },
      "source": [
        "history = model.fit(x=train_tensor, y=labels, epochs=9)"
      ],
      "execution_count": 10,
      "outputs": [
        {
          "output_type": "stream",
          "text": [
            "Epoch 1/9\n",
            "3720/3720 [==============================] - 18s 4ms/step - loss: 0.6204 - accuracy: 0.6425\n",
            "Epoch 2/9\n",
            "3720/3720 [==============================] - 15s 4ms/step - loss: 0.5810 - accuracy: 0.6891\n",
            "Epoch 3/9\n",
            "3720/3720 [==============================] - 15s 4ms/step - loss: 0.5722 - accuracy: 0.6943\n",
            "Epoch 4/9\n",
            "3720/3720 [==============================] - 15s 4ms/step - loss: 0.5651 - accuracy: 0.7008\n",
            "Epoch 5/9\n",
            "3720/3720 [==============================] - 15s 4ms/step - loss: 0.5608 - accuracy: 0.7042\n",
            "Epoch 6/9\n",
            "3720/3720 [==============================] - 15s 4ms/step - loss: 0.5555 - accuracy: 0.7086\n",
            "Epoch 7/9\n",
            "3720/3720 [==============================] - 15s 4ms/step - loss: 0.5522 - accuracy: 0.7111\n",
            "Epoch 8/9\n",
            "3720/3720 [==============================] - 15s 4ms/step - loss: 0.5466 - accuracy: 0.7155\n",
            "Epoch 9/9\n",
            "3720/3720 [==============================] - 15s 4ms/step - loss: 0.5456 - accuracy: 0.7164\n"
          ],
          "name": "stdout"
        }
      ]
    },
    {
      "cell_type": "markdown",
      "metadata": {
        "id": "AHlxVzoporo8"
      },
      "source": [
        "##visualize training"
      ]
    },
    {
      "cell_type": "code",
      "metadata": {
        "id": "RWTtfsbAovtw",
        "colab": {
          "base_uri": "https://localhost:8080/",
          "height": 573
        },
        "outputId": "f2c1304b-13d4-4af7-b601-553aae677744"
      },
      "source": [
        "# https://machinelearningmastery.com/display-deep-learning-model-training-history-in-keras/\n",
        "plt.plot(history.history['loss'], label='train')\n",
        "plt.title('loss')\n",
        "plt.ylabel('loss')\n",
        "plt.xlabel('epoch')\n",
        "plt.legend()\n",
        "plt.show()\n",
        "#plt.plot(history.history['val_accuracy'], label='val_accuracy')\n",
        "plt.plot(history.history['accuracy'], label='accuracy')\n",
        "plt.title('accuracy')\n",
        "plt.ylabel('accuracy')\n",
        "plt.xlabel('epoch')\n",
        "plt.legend()\n",
        "plt.show()"
      ],
      "execution_count": null,
      "outputs": [
        {
          "output_type": "display_data",
          "data": {
            "image/png": "[encoded data removed]",
            "text/plain": [
              "<Figure size 432x288 with 1 Axes>"
            ]
          },
          "metadata": {
            "tags": [],
            "needs_background": "light"
          }
        },
        {
          "output_type": "display_data",
          "data": {
            "image/png": "[encoded data removed]",
            "text/plain": [
              "<Figure size 432x288 with 1 Axes>"
            ]
          },
          "metadata": {
            "tags": [],
            "needs_background": "light"
          }
        }
      ]
    },
    {
      "cell_type": "markdown",
      "metadata": {
        "id": "84NPPvqio00j"
      },
      "source": [
        "##Make prediction"
      ]
    },
    {
      "cell_type": "code",
      "metadata": {
        "id": "bdpH5z3Uo0MI",
        "colab": {
          "base_uri": "https://localhost:8080/"
        },
        "outputId": "aa552171-0992-45da-9d1a-8be56cb35d32"
      },
      "source": [
        "#because of RAM limitations\n",
        "del train_tensor\n",
        "\n",
        "test_tensor = generate_feature_tensor(features, test_triplets, train=False)\n",
        "\n",
        "# Predict\n",
        "predictions = model.predict(test_tensor)"
      ],
      "execution_count": 11,
      "outputs": [
        {
          "output_type": "stream",
          "text": [
            "100%|██████████| 59544/59544 [00:07<00:00, 7550.18it/s]\n"
          ],
          "name": "stderr"
        }
      ]
    },
    {
      "cell_type": "code",
      "metadata": {
        "id": "JVAnmb5lI2Mm"
      },
      "source": [
        "# Create submission file\n",
        "np.savetxt('submission.txt', np.where(predictions < 0.5, 0, 1), fmt='%d')"
      ],
      "execution_count": 12,
      "outputs": []
    },
    {
      "cell_type": "code",
      "metadata": {
        "id": "16SMVoqlNhnb"
      },
      "source": [
        ""
      ],
      "execution_count": null,
      "outputs": []
    }
  ]
}